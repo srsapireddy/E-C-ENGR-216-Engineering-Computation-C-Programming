{
  "nbformat": 4,
  "nbformat_minor": 0,
  "metadata": {
    "colab": {
      "provenance": []
    },
    "kernelspec": {
      "name": "python3",
      "display_name": "Python 3"
    },
    "language_info": {
      "name": "python"
    }
  },
  "cells": [
    {
      "cell_type": "markdown",
      "source": [
        "**Arrays**"
      ],
      "metadata": {
        "id": "_oEfKAr2vOlK"
      }
    },
    {
      "cell_type": "code",
      "execution_count": 1,
      "metadata": {
        "colab": {
          "base_uri": "https://localhost:8080/"
        },
        "id": "MDpPi57Pspq6",
        "outputId": "77d1eb50-2335-42f0-a09a-d624c6917604"
      },
      "outputs": [
        {
          "output_type": "stream",
          "name": "stdout",
          "text": [
            "Writing array_example.c\n"
          ]
        }
      ],
      "source": [
        "%%writefile array_example.c\n",
        "\n",
        "#include <stdio.h>\n",
        "\n",
        "int main() {\n",
        "    // 1. Array Declaration & Initialization\n",
        "    int numbers[5] = {10, 20, 30, 40, 50};\n",
        "\n",
        "    // 2. Accessing Array Elements\n",
        "    printf(\"Original array:\\n\");\n",
        "    for(int i = 0; i < 5; i++) {\n",
        "        printf(\"numbers[%d] = %d\\n\", i, numbers[i]);\n",
        "    }\n",
        "\n",
        "    // 3. Modifying Array Elements\n",
        "    numbers[2] = 99;  // Change the 3rd element from 30 to 99\n",
        "\n",
        "    // 4. Accessing After Modification\n",
        "    printf(\"\\nArray after modification:\\n\");\n",
        "    for(int i = 0; i < 5; i++) {\n",
        "        printf(\"numbers[%d] = %d\\n\", i, numbers[i]);\n",
        "    }\n",
        "\n",
        "    // 5. Declare another array without initialization\n",
        "    int data[3];  // contains garbage values until initialized\n",
        "\n",
        "    printf(\"\\nUninitialized array (garbage values):\\n\");\n",
        "    for(int i = 0; i < 3; i++) {\n",
        "        printf(\"data[%d] = %d\\n\", i, data[i]);\n",
        "    }\n",
        "\n",
        "    // 6. Manual assignment\n",
        "    data[0] = 1;\n",
        "    data[1] = 2;\n",
        "    data[2] = 3;\n",
        "\n",
        "    printf(\"\\nAfter assigning values manually:\\n\");\n",
        "    for(int i = 0; i < 3; i++) {\n",
        "        printf(\"data[%d] = %d\\n\", i, data[i]);\n",
        "    }\n",
        "\n",
        "    return 0;\n",
        "}\n"
      ]
    },
    {
      "cell_type": "code",
      "source": [
        "!gcc array_example.c -o array_example\n",
        "!./array_example\n"
      ],
      "metadata": {
        "colab": {
          "base_uri": "https://localhost:8080/"
        },
        "id": "77fULWb6vMNU",
        "outputId": "fbe1f6d7-fa65-4451-ac77-d6dadeb4201d"
      },
      "execution_count": 2,
      "outputs": [
        {
          "output_type": "stream",
          "name": "stdout",
          "text": [
            "Original array:\n",
            "numbers[0] = 10\n",
            "numbers[1] = 20\n",
            "numbers[2] = 30\n",
            "numbers[3] = 40\n",
            "numbers[4] = 50\n",
            "\n",
            "Array after modification:\n",
            "numbers[0] = 10\n",
            "numbers[1] = 20\n",
            "numbers[2] = 99\n",
            "numbers[3] = 40\n",
            "numbers[4] = 50\n",
            "\n",
            "Uninitialized array (garbage values):\n",
            "data[0] = 0\n",
            "data[1] = 0\n",
            "data[2] = 0\n",
            "\n",
            "After assigning values manually:\n",
            "data[0] = 1\n",
            "data[1] = 2\n",
            "data[2] = 3\n"
          ]
        }
      ]
    },
    {
      "cell_type": "markdown",
      "source": [
        "**Structures**"
      ],
      "metadata": {
        "id": "6hBiPHg4vdm1"
      }
    },
    {
      "cell_type": "code",
      "source": [
        "%%writefile struct_example.c\n",
        "#include <stdio.h>\n",
        "#include <string.h> // for strcpy\n",
        "\n",
        "// Step 1: Declare a structure\n",
        "struct Person {\n",
        "    char name[50];\n",
        "    int age;\n",
        "    float height;\n",
        "};\n",
        "\n",
        "int main() {\n",
        "    // Step 2: Define a structure variable\n",
        "    struct Person person1; // Adding new person (object creation)\n",
        "\n",
        "    // Step 3: Assign values to structure members\n",
        "    person1.age = 30;\n",
        "    person1.name, \"John\";\n",
        "    person1.height = 1.75;\n",
        "\n",
        "    // Step 4: Access and print structure members\n",
        "    printf(\"Before Modification:\\n\");\n",
        "    printf(\"Name: %s\\n\", person1.name);\n",
        "    printf(\"Age: %d\\n\", person1.age);\n",
        "    printf(\"Height: %.2f meters\\n\", person1.height);\n",
        "\n",
        "    // Step 5: Modify structure members\n",
        "    person1.age = 35;\n",
        "\n",
        "    printf(\"\\nAfter Modification:\\n\");\n",
        "    printf(\"Name: %s\\n\", person1.name);\n",
        "    printf(\"Age: %d\\n\", person1.age);\n",
        "    printf(\"Height: %.2f meters\\n\", person1.height);\n",
        "\n",
        "    return 0;\n",
        "}\n"
      ],
      "metadata": {
        "colab": {
          "base_uri": "https://localhost:8080/"
        },
        "id": "vCiL5soQvOBq",
        "outputId": "8e29c1e2-02ae-4e82-e486-57174c848e33"
      },
      "execution_count": 7,
      "outputs": [
        {
          "output_type": "stream",
          "name": "stdout",
          "text": [
            "Overwriting struct_example.c\n"
          ]
        }
      ]
    },
    {
      "cell_type": "code",
      "source": [
        "!gcc struct_example.c -o struct_example\n",
        "!./struct_example\n"
      ],
      "metadata": {
        "colab": {
          "base_uri": "https://localhost:8080/"
        },
        "id": "tbBvPnfw24GM",
        "outputId": "9014a7cb-fd78-446a-d674-95703cb8271c"
      },
      "execution_count": 8,
      "outputs": [
        {
          "output_type": "stream",
          "name": "stdout",
          "text": [
            "Before Modification:\n",
            "Name: \n",
            "Age: 30\n",
            "Height: 1.75 meters\n",
            "\n",
            "After Modification:\n",
            "Name: \n",
            "Age: 35\n",
            "Height: 1.75 meters\n"
          ]
        }
      ]
    },
    {
      "cell_type": "markdown",
      "source": [
        "**Pointers**"
      ],
      "metadata": {
        "id": "NpLmqsjp3km6"
      }
    },
    {
      "cell_type": "code",
      "source": [
        "%%writefile pointer_example.c\n",
        "#include <stdio.h>\n",
        "\n",
        "int main() {\n",
        "    int num = 42;        // Regular integer variable\n",
        "    int *ptr;            // Declaring a pointer to int\n",
        "\n",
        "    ptr = &num;          // Assigning the address of num to the pointer\n",
        "\n",
        "    // Printing address and value\n",
        "    printf(\"Address of num: %p\\n\", &num);     // Address of num\n",
        "    printf(\"Address stored in ptr: %p\\n\", ptr); // Same address\n",
        "    printf(\"Value pointed by ptr: %d\\n\", *ptr); // Dereferencing\n",
        "\n",
        "    // Modifying value using pointer\n",
        "    *ptr = 100;\n",
        "    printf(\"\\nAfter modifying using pointer:\\n\");\n",
        "    printf(\"Value of num: %d\\n\", num);        // Shows updated value\n",
        "\n",
        "    return 0;\n",
        "}\n"
      ],
      "metadata": {
        "colab": {
          "base_uri": "https://localhost:8080/"
        },
        "id": "DzhaoQsM3p3I",
        "outputId": "0e83cc89-002a-4385-cb53-e9d8189057f4"
      },
      "execution_count": 9,
      "outputs": [
        {
          "output_type": "stream",
          "name": "stdout",
          "text": [
            "Writing pointer_example.c\n"
          ]
        }
      ]
    },
    {
      "cell_type": "code",
      "source": [
        "!gcc pointer_example.c -o pointer_example\n",
        "!./pointer_example\n"
      ],
      "metadata": {
        "colab": {
          "base_uri": "https://localhost:8080/"
        },
        "id": "rU3NIUl86bqg",
        "outputId": "54d269a1-9838-4b2f-a419-86784a6930ad"
      },
      "execution_count": 11,
      "outputs": [
        {
          "output_type": "stream",
          "name": "stdout",
          "text": [
            "Address of num: 0x7ffcb1b0bdfc\n",
            "Address stored in ptr: 0x7ffcb1b0bdfc\n",
            "Value pointed by ptr: 42\n",
            "\n",
            "After modifying using pointer:\n",
            "Value of num: 100\n"
          ]
        }
      ]
    },
    {
      "cell_type": "markdown",
      "source": [
        "Factorial Example"
      ],
      "metadata": {
        "id": "K4HYzEnw3T9S"
      }
    },
    {
      "cell_type": "code",
      "source": [
        "%%writefile factorial_trace.c\n",
        "#include <stdio.h>\n",
        "\n",
        "// Function to calculate factorial\n",
        "int factorial(int n) {\n",
        "    printf(\"Calling factorial(%d)\\n\", n);  // Trace call\n",
        "\n",
        "    // Base case: when n is 0 or 1, return 1\n",
        "    if(n == 0 || n == 1) {\n",
        "        printf(\"Reached base case: factorial(%d) = 1\\n\", n);\n",
        "        return 1;\n",
        "    }\n",
        "\n",
        "    // Recursive case: n * factorial(n - 1)\n",
        "    int result = n * factorial(n - 1);\n",
        "    printf(\"Returning from factorial(%d): %d\\n\", n, result);\n",
        "    return result;\n",
        "}\n",
        "\n",
        "int main() {\n",
        "    int number = 5;  // Change this to try other values\n",
        "    printf(\"Factorial of %d is: %d\\n\", number, factorial(number));\n",
        "    return 0;\n",
        "}\n"
      ],
      "metadata": {
        "colab": {
          "base_uri": "https://localhost:8080/"
        },
        "id": "oH20oTZE25Mg",
        "outputId": "1233cbe3-48d9-427a-9990-efdc7247c9f7"
      },
      "execution_count": 12,
      "outputs": [
        {
          "output_type": "stream",
          "name": "stdout",
          "text": [
            "Overwriting factorial_trace.c\n"
          ]
        }
      ]
    },
    {
      "cell_type": "code",
      "source": [
        "!gcc factorial_trace.c -o factorial_trace\n",
        "!./factorial_trace\n"
      ],
      "metadata": {
        "colab": {
          "base_uri": "https://localhost:8080/"
        },
        "id": "tu5Khy6l3V8Q",
        "outputId": "3ff21287-40db-4901-cd33-a587b267b1b2"
      },
      "execution_count": 13,
      "outputs": [
        {
          "output_type": "stream",
          "name": "stdout",
          "text": [
            "Calling factorial(5)\n",
            "Calling factorial(4)\n",
            "Calling factorial(3)\n",
            "Calling factorial(2)\n",
            "Calling factorial(1)\n",
            "Reached base case: factorial(1) = 1\n",
            "Returning from factorial(2): 2\n",
            "Returning from factorial(3): 6\n",
            "Returning from factorial(4): 24\n",
            "Returning from factorial(5): 120\n",
            "Factorial of 5 is: 120\n"
          ]
        }
      ]
    },
    {
      "cell_type": "markdown",
      "source": [
        "Base case:</br>\n",
        "When n == 0 or n == 1, factorial is 1 — this stops the recursion. </br></br>\n",
        "\n",
        "Recursive case:</br>\n",
        "For n > 1, it returns n * factorial(n - 1)."
      ],
      "metadata": {
        "id": "CgJuthIp3di2"
      }
    },
    {
      "cell_type": "code",
      "source": [],
      "metadata": {
        "id": "ASk4oagl3X8g"
      },
      "execution_count": null,
      "outputs": []
    }
  ]
}