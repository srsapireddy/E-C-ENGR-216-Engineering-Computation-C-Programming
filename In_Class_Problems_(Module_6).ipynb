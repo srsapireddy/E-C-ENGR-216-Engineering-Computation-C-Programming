{
  "nbformat": 4,
  "nbformat_minor": 0,
  "metadata": {
    "colab": {
      "provenance": []
    },
    "kernelspec": {
      "name": "python3",
      "display_name": "Python 3"
    },
    "language_info": {
      "name": "python"
    }
  },
  "cells": [
    {
      "cell_type": "markdown",
      "source": [
        "1. Basic if Statement – Even Check"
      ],
      "metadata": {
        "id": "0poloST4ITjM"
      }
    },
    {
      "cell_type": "code",
      "execution_count": 2,
      "metadata": {
        "colab": {
          "base_uri": "https://localhost:8080/"
        },
        "id": "-4mDZnCXH2Dn",
        "outputId": "4328901c-d0b9-4fc7-cd8e-e821501b2296"
      },
      "outputs": [
        {
          "output_type": "stream",
          "name": "stdout",
          "text": [
            "Writing Even.c\n"
          ]
        }
      ],
      "source": [
        "%%writefile Even.c\n",
        "\n",
        "\n",
        "#include <stdio.h>\n",
        "int main() {\n",
        "    int num;\n",
        "    printf(\"Enter a number: \");\n",
        "    scanf(\"%d\", &num);\n",
        "    if (num % 2 == 0)\n",
        "        printf(\"Even\\n\");\n",
        "    return 0;\n",
        "}\n"
      ]
    },
    {
      "cell_type": "code",
      "source": [
        "!gcc -o Even Even.c"
      ],
      "metadata": {
        "id": "l90CKk9vIZ5l"
      },
      "execution_count": 6,
      "outputs": []
    },
    {
      "cell_type": "code",
      "source": [
        "!./Even"
      ],
      "metadata": {
        "colab": {
          "base_uri": "https://localhost:8080/"
        },
        "id": "6fd5YxjrIeF-",
        "outputId": "c22557bb-9234-43c4-9a64-eeae4ba2861a"
      },
      "execution_count": 7,
      "outputs": [
        {
          "output_type": "stream",
          "name": "stdout",
          "text": [
            "Enter a number: 4\n",
            "Even\n"
          ]
        }
      ]
    },
    {
      "cell_type": "markdown",
      "source": [
        "2. if-else – Age Check"
      ],
      "metadata": {
        "id": "FykKds6OIrrc"
      }
    },
    {
      "cell_type": "code",
      "source": [
        "%%writefile Age.c\n",
        "\n",
        "\n",
        "#include <stdio.h>\n",
        "int main() {\n",
        "    int age;\n",
        "    printf(\"Enter your age: \");\n",
        "    scanf(\"%d\", &age);\n",
        "    if (age >= 18)\n",
        "        printf(\"Eligible to vote\\n\");\n",
        "    else\n",
        "        printf(\"Not eligible\\n\");\n",
        "    return 0;\n",
        "}\n",
        "\n"
      ],
      "metadata": {
        "colab": {
          "base_uri": "https://localhost:8080/"
        },
        "id": "fq0I1_FpIj4s",
        "outputId": "6295f236-855b-48e1-becc-124a6c4fc8cb"
      },
      "execution_count": 9,
      "outputs": [
        {
          "output_type": "stream",
          "name": "stdout",
          "text": [
            "Writing Age.c\n"
          ]
        }
      ]
    },
    {
      "cell_type": "code",
      "source": [
        "!gcc -o Age Age.c"
      ],
      "metadata": {
        "id": "6jVrIs9tIwjD"
      },
      "execution_count": 10,
      "outputs": []
    },
    {
      "cell_type": "code",
      "source": [
        "!./Age"
      ],
      "metadata": {
        "colab": {
          "base_uri": "https://localhost:8080/"
        },
        "id": "J6lyaHH_I8Ub",
        "outputId": "1f47b361-05f7-4f2c-caca-3f5c112b567c"
      },
      "execution_count": 11,
      "outputs": [
        {
          "output_type": "stream",
          "name": "stdout",
          "text": [
            "Enter your age: 33\n",
            "Eligible to vote\n"
          ]
        }
      ]
    },
    {
      "cell_type": "markdown",
      "source": [
        "3. if-else-if – Grade Classification"
      ],
      "metadata": {
        "id": "78zoiVIAJCN0"
      }
    },
    {
      "cell_type": "code",
      "source": [
        "%%writefile Grade.c\n",
        "\n",
        "\n",
        "#include <stdio.h>\n",
        "int main() {\n",
        "    int score;\n",
        "    printf(\"Enter score: \");\n",
        "    scanf(\"%d\", &score);\n",
        "    if (score >= 90)\n",
        "        printf(\"Grade: A\\n\");\n",
        "    else if (score >= 80)\n",
        "        printf(\"Grade: B\\n\");\n",
        "    else if (score >= 70)\n",
        "        printf(\"Grade: C\\n\");\n",
        "    else if (score >= 60)\n",
        "        printf(\"Grade: D\\n\");\n",
        "    else\n",
        "        printf(\"Grade: F\\n\");\n",
        "    return 0;\n",
        "}\n",
        "\n",
        "\n"
      ],
      "metadata": {
        "colab": {
          "base_uri": "https://localhost:8080/"
        },
        "id": "jvobtdcUI-xU",
        "outputId": "150e9dd6-b2cd-40ec-d7db-a52633508d44"
      },
      "execution_count": 13,
      "outputs": [
        {
          "output_type": "stream",
          "name": "stdout",
          "text": [
            "Overwriting Grade.c\n"
          ]
        }
      ]
    },
    {
      "cell_type": "code",
      "source": [
        "!gcc -o Grade Grade.c"
      ],
      "metadata": {
        "id": "UZ4-BlROJGH2"
      },
      "execution_count": 14,
      "outputs": []
    },
    {
      "cell_type": "code",
      "source": [
        "!./Grade"
      ],
      "metadata": {
        "colab": {
          "base_uri": "https://localhost:8080/"
        },
        "id": "x_v6mzbUJKeS",
        "outputId": "3101b56a-044f-4649-857c-69bf2aa9c681"
      },
      "execution_count": 15,
      "outputs": [
        {
          "output_type": "stream",
          "name": "stdout",
          "text": [
            "Enter score: 98\n",
            "Grade: A\n"
          ]
        }
      ]
    },
    {
      "cell_type": "markdown",
      "source": [
        "4. Nested if – Number Sign & Divisibility"
      ],
      "metadata": {
        "id": "bQNRGgfDJPmn"
      }
    },
    {
      "cell_type": "code",
      "source": [
        "%%writefile Number.c\n",
        "\n",
        "\n",
        "#include <stdio.h>\n",
        "int main() {\n",
        "    int num;\n",
        "    printf(\"Enter a number: \");\n",
        "    scanf(\"%d\", &num);\n",
        "    if (num > 0) {\n",
        "        if (num % 5 == 0)\n",
        "            printf(\"Positive and divisible by 5\\n\");\n",
        "        else\n",
        "            printf(\"Positive but not divisible by 5\\n\");\n",
        "    } else if (num < 0) {\n",
        "        if (num < -10)\n",
        "            printf(\"Negative and less than -10\\n\");\n",
        "        else\n",
        "            printf(\"Negative but not less than -10\\n\");\n",
        "    } else {\n",
        "        printf(\"Zero\\n\");\n",
        "    }\n",
        "    return 0;\n",
        "}\n",
        "\n",
        "\n"
      ],
      "metadata": {
        "colab": {
          "base_uri": "https://localhost:8080/"
        },
        "id": "HUP27khZJMsy",
        "outputId": "e9c1ab8a-e91f-45af-f370-35206bc346a0"
      },
      "execution_count": 16,
      "outputs": [
        {
          "output_type": "stream",
          "name": "stdout",
          "text": [
            "Writing Number.c\n"
          ]
        }
      ]
    },
    {
      "cell_type": "code",
      "source": [
        "!gcc -o Number Number.c"
      ],
      "metadata": {
        "id": "XYgCbNrJJreU"
      },
      "execution_count": 17,
      "outputs": []
    },
    {
      "cell_type": "code",
      "source": [
        "!./Number"
      ],
      "metadata": {
        "colab": {
          "base_uri": "https://localhost:8080/"
        },
        "id": "ssR3I2I3JufC",
        "outputId": "715a82e8-f7d8-4062-b000-be3b35807c31"
      },
      "execution_count": 18,
      "outputs": [
        {
          "output_type": "stream",
          "name": "stdout",
          "text": [
            "Enter a number: 9\n",
            "Positive but not divisible by 5\n"
          ]
        }
      ]
    },
    {
      "cell_type": "markdown",
      "source": [
        "5. Logical Operators – All Positive"
      ],
      "metadata": {
        "id": "zJrsX8p9J6XM"
      }
    },
    {
      "cell_type": "code",
      "source": [
        "%%writefile Positive.c\n",
        "\n",
        "\n",
        "#include <stdio.h>\n",
        "int main() {\n",
        "    int a, b, c;\n",
        "    printf(\"Enter three numbers: \");\n",
        "    scanf(\"%d %d %d\", &a, &b, &c);\n",
        "    if (a > 0 && b > 0 && c > 0)\n",
        "        printf(\"All are positive\\n\");\n",
        "    else\n",
        "        printf(\"Not all are positive\\n\");\n",
        "    return 0;\n",
        "}\n",
        "\n",
        "\n",
        "\n"
      ],
      "metadata": {
        "colab": {
          "base_uri": "https://localhost:8080/"
        },
        "id": "q5XNdhZ9Jwps",
        "outputId": "119bad83-d631-4307-ec13-bd69035cb0d7"
      },
      "execution_count": 19,
      "outputs": [
        {
          "output_type": "stream",
          "name": "stdout",
          "text": [
            "Writing Positive.c\n"
          ]
        }
      ]
    },
    {
      "cell_type": "code",
      "source": [
        "!gcc -o Positive Positive.c"
      ],
      "metadata": {
        "id": "5FhNTS9YJ_AD"
      },
      "execution_count": 21,
      "outputs": []
    },
    {
      "cell_type": "code",
      "source": [
        "!./Positive"
      ],
      "metadata": {
        "colab": {
          "base_uri": "https://localhost:8080/"
        },
        "id": "7olK4JdbKBiS",
        "outputId": "cbd8df8e-6536-438b-b05c-e79679c244fe"
      },
      "execution_count": 22,
      "outputs": [
        {
          "output_type": "stream",
          "name": "stdout",
          "text": [
            "Enter three numbers: 3\n",
            "4\n",
            "5\n",
            "All are positive\n"
          ]
        }
      ]
    },
    {
      "cell_type": "markdown",
      "source": [
        "6. switch – Calculator"
      ],
      "metadata": {
        "id": "6MwIdyo_KJyK"
      }
    },
    {
      "cell_type": "code",
      "source": [
        "%%writefile Calculator.c\n",
        "\n",
        "\n",
        "#include <stdio.h>\n",
        "int main() {\n",
        "    int a, b, choice;\n",
        "    printf(\"1. Add\\n2. Subtract\\n3. Multiply\\n4. Divide\\n\");\n",
        "    printf(\"Enter your choice: \");\n",
        "    scanf(\"%d\", &choice);\n",
        "    printf(\"Enter two numbers: \");\n",
        "    scanf(\"%d %d\", &a, &b);\n",
        "\n",
        "    switch (choice) {\n",
        "        case 1: printf(\"Sum = %d\\n\", a + b); break;\n",
        "        case 2: printf(\"Difference = %d\\n\", a - b); break;\n",
        "        case 3: printf(\"Product = %d\\n\", a * b); break;\n",
        "        case 4:\n",
        "            if (b != 0)\n",
        "                printf(\"Quotient = %d\\n\", a / b);\n",
        "            else\n",
        "                printf(\"Cannot divide by zero\\n\");\n",
        "            break;\n",
        "        default: printf(\"Invalid choice\\n\");\n",
        "    }\n",
        "    return 0;\n",
        "}\n",
        "\n",
        "\n",
        "\n",
        "\n"
      ],
      "metadata": {
        "colab": {
          "base_uri": "https://localhost:8080/"
        },
        "id": "5fOVgLjwKE2M",
        "outputId": "17fc909f-4dd1-4b7b-8d85-146bc1d152c4"
      },
      "execution_count": 23,
      "outputs": [
        {
          "output_type": "stream",
          "name": "stdout",
          "text": [
            "Writing Calculator.c\n"
          ]
        }
      ]
    },
    {
      "cell_type": "code",
      "source": [
        "!gcc -o Calculator Calculator.c"
      ],
      "metadata": {
        "id": "MLPOllSMKOXj"
      },
      "execution_count": 24,
      "outputs": []
    },
    {
      "cell_type": "code",
      "source": [
        "!./Calculator"
      ],
      "metadata": {
        "colab": {
          "base_uri": "https://localhost:8080/"
        },
        "id": "vPhWZfzlKRUC",
        "outputId": "43b026c1-a74e-48dd-de52-72484efd04f6"
      },
      "execution_count": 26,
      "outputs": [
        {
          "output_type": "stream",
          "name": "stdout",
          "text": [
            "1. Add\n",
            "2. Subtract\n",
            "3. Multiply\n",
            "4. Divide\n",
            "Enter your choice: 1\n",
            "Enter two numbers: 3\n",
            "4\n",
            "Sum = 7\n"
          ]
        }
      ]
    },
    {
      "cell_type": "markdown",
      "source": [
        "7. switch with Character – Vowel Checker"
      ],
      "metadata": {
        "id": "7Vcl6PE2Khib"
      }
    },
    {
      "cell_type": "code",
      "source": [
        "%%writefile Vowel.c\n",
        "\n",
        "\n",
        "#include <stdio.h>\n",
        "int main() {\n",
        "    char ch;\n",
        "    printf(\"Enter a character: \");\n",
        "    scanf(\" %c\", &ch);\n",
        "\n",
        "    switch (ch) {\n",
        "        case 'a': case 'e': case 'i': case 'o': case 'u':\n",
        "        case 'A': case 'E': case 'I': case 'O': case 'U':\n",
        "            printf(\"Vowel entered\\n\");\n",
        "            break;\n",
        "        default:\n",
        "            printf(\"Not a vowel\\n\");\n",
        "    }\n",
        "    return 0;\n",
        "}\n"
      ],
      "metadata": {
        "colab": {
          "base_uri": "https://localhost:8080/"
        },
        "id": "zQoKCpi0KUA9",
        "outputId": "d6d51705-4967-4c1c-c7a8-191816167cd9"
      },
      "execution_count": 28,
      "outputs": [
        {
          "output_type": "stream",
          "name": "stdout",
          "text": [
            "Writing Vowel.c\n"
          ]
        }
      ]
    },
    {
      "cell_type": "code",
      "source": [
        "!gcc -o Vowel Vowel.c"
      ],
      "metadata": {
        "id": "YBlCkN8JKmb5"
      },
      "execution_count": 29,
      "outputs": []
    },
    {
      "cell_type": "code",
      "source": [
        "!./Vowel"
      ],
      "metadata": {
        "colab": {
          "base_uri": "https://localhost:8080/"
        },
        "id": "1qcENuD-KrOT",
        "outputId": "9bae5201-de48-4839-ae5a-627a0a838b70"
      },
      "execution_count": 30,
      "outputs": [
        {
          "output_type": "stream",
          "name": "stdout",
          "text": [
            "Enter a character: o\n",
            "Vowel entered\n"
          ]
        }
      ]
    },
    {
      "cell_type": "markdown",
      "source": [
        "8. default in switch – Extended Calculator"
      ],
      "metadata": {
        "id": "lgroObTQKwLr"
      }
    },
    {
      "cell_type": "code",
      "source": [
        "%%writefile Extended.c\n",
        "\n",
        "\n",
        "#include <stdio.h>\n",
        "int main() {\n",
        "    int a, b;\n",
        "    char op;\n",
        "    printf(\"Enter two numbers: \");\n",
        "    scanf(\"%d %d\", &a, &b);\n",
        "    printf(\"Enter operator (+, -, *, /): \");\n",
        "    scanf(\" %c\", &op);\n",
        "\n",
        "    switch(op) {\n",
        "        case '+': printf(\"Sum = %d\\n\", a + b); break;\n",
        "        case '-': printf(\"Difference = %d\\n\", a - b); break;\n",
        "        case '*': printf(\"Product = %d\\n\", a * b); break;\n",
        "        case '/':\n",
        "            if (b != 0)\n",
        "                printf(\"Quotient = %d\\n\", a / b);\n",
        "            else\n",
        "                printf(\"Division by zero not allowed\\n\");\n",
        "            break;\n",
        "        default: printf(\"Invalid operator\\n\");\n",
        "    }\n",
        "    return 0;\n",
        "}\n",
        "\n"
      ],
      "metadata": {
        "colab": {
          "base_uri": "https://localhost:8080/"
        },
        "id": "Q_VBOzKpKtcq",
        "outputId": "4750a897-916c-4b1d-a136-7b5a682407e4"
      },
      "execution_count": 31,
      "outputs": [
        {
          "output_type": "stream",
          "name": "stdout",
          "text": [
            "Writing Extended.c\n"
          ]
        }
      ]
    },
    {
      "cell_type": "code",
      "source": [
        "!gcc -o Extended Extended.c"
      ],
      "metadata": {
        "id": "ftXxlCNDK3RJ"
      },
      "execution_count": 32,
      "outputs": []
    },
    {
      "cell_type": "code",
      "source": [
        "!./Extended"
      ],
      "metadata": {
        "colab": {
          "base_uri": "https://localhost:8080/"
        },
        "id": "sG4wN4ObK6SC",
        "outputId": "ee827202-1827-4284-821a-ba4af9b69f95"
      },
      "execution_count": 33,
      "outputs": [
        {
          "output_type": "stream",
          "name": "stdout",
          "text": [
            "Enter two numbers: 4\n",
            "5\n",
            "Enter operator (+, -, *, /): /\n",
            "Quotient = 0\n"
          ]
        }
      ]
    },
    {
      "cell_type": "markdown",
      "source": [
        "9. switch – Traffic Light"
      ],
      "metadata": {
        "id": "GkhJDfQNLEK_"
      }
    },
    {
      "cell_type": "code",
      "source": [
        "%%writefile Traffic.c\n",
        "\n",
        "\n",
        "#include <stdio.h>\n",
        "int main() {\n",
        "    char signal;\n",
        "    printf(\"Enter signal (R/G/Y): \");\n",
        "    scanf(\" %c\", &signal);\n",
        "\n",
        "    switch (signal) {\n",
        "        case 'R': case 'r': printf(\"Stop\\n\"); break;\n",
        "        case 'G': case 'g': printf(\"Go\\n\"); break;\n",
        "        case 'Y': case 'y': printf(\"Wait\\n\"); break;\n",
        "        default: printf(\"Invalid signal\\n\");\n",
        "    }\n",
        "    return 0;\n",
        "}\n",
        "\n",
        "\n"
      ],
      "metadata": {
        "colab": {
          "base_uri": "https://localhost:8080/"
        },
        "id": "0J1jMbjzK_dD",
        "outputId": "52369e16-ded3-445c-9a8a-ff1070891ec0"
      },
      "execution_count": 34,
      "outputs": [
        {
          "output_type": "stream",
          "name": "stdout",
          "text": [
            "Writing Traffic.c\n"
          ]
        }
      ]
    },
    {
      "cell_type": "code",
      "source": [
        "!gcc -o Traffic Traffic.c"
      ],
      "metadata": {
        "id": "BC_tjuDWLJyB"
      },
      "execution_count": 35,
      "outputs": []
    },
    {
      "cell_type": "code",
      "source": [
        "!./Traffic"
      ],
      "metadata": {
        "colab": {
          "base_uri": "https://localhost:8080/"
        },
        "id": "QoCaJ8hoLMVh",
        "outputId": "6878b113-196c-44a7-e1e3-275144f3cf12"
      },
      "execution_count": 36,
      "outputs": [
        {
          "output_type": "stream",
          "name": "stdout",
          "text": [
            "Enter signal (R/G/Y): R\n",
            "Stop\n"
          ]
        }
      ]
    },
    {
      "cell_type": "markdown",
      "source": [
        "10. Challenge – Mixed switch & if"
      ],
      "metadata": {
        "id": "2eTLX_AmLQkS"
      }
    },
    {
      "cell_type": "code",
      "source": [
        "%%writefile Challenge.c\n",
        "\n",
        "\n",
        "#include <stdio.h>\n",
        "int main() {\n",
        "    int num;\n",
        "    printf(\"Enter a number (1–5): \");\n",
        "    scanf(\"%d\", &num);\n",
        "\n",
        "    if (num >= 1 && num <= 5) {\n",
        "        switch (num) {\n",
        "            case 1: printf(\"One\\n\"); break;\n",
        "            case 2: printf(\"Two\\n\"); break;\n",
        "            case 3: printf(\"Three\\n\"); break;\n",
        "            case 4: printf(\"Four\\n\"); break;\n",
        "            case 5: printf(\"Five\\n\"); break;\n",
        "        }\n",
        "    } else {\n",
        "        if (num < 1)\n",
        "            printf(\"Too Small\\n\");\n",
        "        else\n",
        "            printf(\"Too Large\\n\");\n",
        "    }\n",
        "    return 0;\n",
        "}\n",
        "\n"
      ],
      "metadata": {
        "colab": {
          "base_uri": "https://localhost:8080/"
        },
        "id": "h82BvJV1LOuC",
        "outputId": "5e85695c-514a-4f3f-dbfa-8e6501ee2063"
      },
      "execution_count": 43,
      "outputs": [
        {
          "output_type": "stream",
          "name": "stdout",
          "text": [
            "Writing Challenge.c\n"
          ]
        }
      ]
    },
    {
      "cell_type": "code",
      "source": [
        "!gcc -o Challenge Challenge.c"
      ],
      "metadata": {
        "id": "awjlWTeJLW4g"
      },
      "execution_count": 44,
      "outputs": []
    },
    {
      "cell_type": "code",
      "source": [
        "!./Challenge"
      ],
      "metadata": {
        "colab": {
          "base_uri": "https://localhost:8080/"
        },
        "id": "8i64td91Lanx",
        "outputId": "34a16279-070b-457b-81a5-f7f149bc5835"
      },
      "execution_count": 45,
      "outputs": [
        {
          "output_type": "stream",
          "name": "stdout",
          "text": [
            "Enter a number (1–5): 5\n",
            "Five\n"
          ]
        }
      ]
    },
    {
      "cell_type": "code",
      "source": [],
      "metadata": {
        "id": "0psjUDJRLhNR"
      },
      "execution_count": null,
      "outputs": []
    }
  ]
}