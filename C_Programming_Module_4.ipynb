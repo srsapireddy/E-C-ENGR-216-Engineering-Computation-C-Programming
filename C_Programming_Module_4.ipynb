{
  "nbformat": 4,
  "nbformat_minor": 0,
  "metadata": {
    "colab": {
      "provenance": []
    },
    "kernelspec": {
      "name": "python3",
      "display_name": "Python 3"
    },
    "language_info": {
      "name": "python"
    }
  },
  "cells": [
    {
      "cell_type": "markdown",
      "source": [
        "Arithmetic Operators"
      ],
      "metadata": {
        "id": "P7PW5_WfFu5H"
      }
    },
    {
      "cell_type": "code",
      "execution_count": 1,
      "metadata": {
        "colab": {
          "base_uri": "https://localhost:8080/"
        },
        "id": "Z29IRLVQFmSF",
        "outputId": "858c16e7-a612-48d5-d20d-64de0b13c8a6"
      },
      "outputs": [
        {
          "output_type": "stream",
          "name": "stdout",
          "text": [
            "Writing Arithmetic.c\n"
          ]
        }
      ],
      "source": [
        "%%writefile Arithmetic.c\n",
        "\n",
        "\n",
        "#include <stdio.h>\n",
        "\n",
        "int main() {\n",
        "    int a = 10, b = 5;\n",
        "    printf(\"Addition: %d\\n\", a + b);\n",
        "    printf(\"Subtraction: %d\\n\", a - b);\n",
        "    printf(\"Multiplication: %d\\n\", a * b);\n",
        "    printf(\"Division: %d\\n\", a / b);\n",
        "    printf(\"Modulus: %d\\n\", a % b);\n",
        "    return 0;\n",
        "}"
      ]
    },
    {
      "cell_type": "code",
      "source": [
        "!gcc -o Arithmetic Arithmetic.c"
      ],
      "metadata": {
        "id": "Zw-6BDg3F2_Y"
      },
      "execution_count": 2,
      "outputs": []
    },
    {
      "cell_type": "code",
      "source": [
        "!./Arithmetic"
      ],
      "metadata": {
        "colab": {
          "base_uri": "https://localhost:8080/"
        },
        "id": "5ic2qQkoF7Uo",
        "outputId": "ff6fb39e-fecd-4537-a225-a13589167d89"
      },
      "execution_count": 3,
      "outputs": [
        {
          "output_type": "stream",
          "name": "stdout",
          "text": [
            "Addition: 15\n",
            "Subtraction: 5\n",
            "Multiplication: 50\n",
            "Division: 2\n",
            "Modulus: 0\n"
          ]
        }
      ]
    },
    {
      "cell_type": "markdown",
      "source": [
        "Relational Operators"
      ],
      "metadata": {
        "id": "07B2l6eYF-HJ"
      }
    },
    {
      "cell_type": "code",
      "source": [
        "%%writefile Relational.c\n",
        "\n",
        "\n",
        "#include <stdio.h>\n",
        "\n",
        "int main() {\n",
        "    int x = 10, y = 20;\n",
        "    printf(\"x == y: %d\\n\", x == y);\n",
        "    printf(\"x != y: %d\\n\", x != y);\n",
        "    printf(\"x > y: %d\\n\", x > y);\n",
        "    printf(\"x < y: %d\\n\", x < y);\n",
        "    printf(\"x >= y: %d\\n\", x >= y);\n",
        "    printf(\"x <= y: %d\\n\", x <= y);\n",
        "    return 0;\n",
        "}"
      ],
      "metadata": {
        "colab": {
          "base_uri": "https://localhost:8080/"
        },
        "id": "gEfKmcEtF9YA",
        "outputId": "abc63ceb-296b-43b5-ca14-1dbefb03b102"
      },
      "execution_count": 4,
      "outputs": [
        {
          "output_type": "stream",
          "name": "stdout",
          "text": [
            "Writing Relational.c\n"
          ]
        }
      ]
    },
    {
      "cell_type": "code",
      "source": [
        "!gcc -o Relational Relational.c"
      ],
      "metadata": {
        "id": "MgLGRpR1GF3H"
      },
      "execution_count": 5,
      "outputs": []
    },
    {
      "cell_type": "code",
      "source": [
        "!./Relational"
      ],
      "metadata": {
        "colab": {
          "base_uri": "https://localhost:8080/"
        },
        "id": "hpv9RDSKGJRP",
        "outputId": "73156d77-ffd8-4c08-c379-ff4cfcace37e"
      },
      "execution_count": 6,
      "outputs": [
        {
          "output_type": "stream",
          "name": "stdout",
          "text": [
            "x == y: 0\n",
            "x != y: 1\n",
            "x > y: 0\n",
            "x < y: 1\n",
            "x >= y: 0\n",
            "x <= y: 1\n"
          ]
        }
      ]
    },
    {
      "cell_type": "markdown",
      "source": [
        "Logical Operators"
      ],
      "metadata": {
        "id": "8e1SN8TEGRqw"
      }
    },
    {
      "cell_type": "code",
      "source": [
        "%%writefile Logical.c\n",
        "\n",
        "\n",
        "#include <stdio.h>\n",
        "\n",
        "int main() {\n",
        "    int p = 1, q = 0;\n",
        "    printf(\"p && q: %d\\n\", p && q);\n",
        "    printf(\"p || q: %d\\n\", p || q);\n",
        "    printf(\"!p: %d\\n\", !p);\n",
        "    return 0;\n",
        "}"
      ],
      "metadata": {
        "colab": {
          "base_uri": "https://localhost:8080/"
        },
        "id": "Gi65TpA5GL9P",
        "outputId": "539f9f2f-f6da-45e0-d0b9-6aeba32134a1"
      },
      "execution_count": 7,
      "outputs": [
        {
          "output_type": "stream",
          "name": "stdout",
          "text": [
            "Writing Logical.c\n"
          ]
        }
      ]
    },
    {
      "cell_type": "code",
      "source": [
        "!gcc -o Logical Logical.c"
      ],
      "metadata": {
        "id": "8Gj4sznLGXwC"
      },
      "execution_count": 8,
      "outputs": []
    },
    {
      "cell_type": "code",
      "source": [
        "!./Logical\n"
      ],
      "metadata": {
        "colab": {
          "base_uri": "https://localhost:8080/"
        },
        "id": "YFDn5TAKGaoG",
        "outputId": "0c8aaeb6-393d-4e88-8520-4423ad0c57d4"
      },
      "execution_count": 9,
      "outputs": [
        {
          "output_type": "stream",
          "name": "stdout",
          "text": [
            "p && q: 0\n",
            "p || q: 1\n",
            "!p: 0\n"
          ]
        }
      ]
    },
    {
      "cell_type": "markdown",
      "source": [
        "Bitwise Operators"
      ],
      "metadata": {
        "id": "hih5hGqKGiUx"
      }
    },
    {
      "cell_type": "code",
      "source": [
        "%%writefile Bitwise.c\n",
        "\n",
        "#include <stdio.h>\n",
        "\n",
        "int main() {\n",
        "    int m = 5, n = 3;\n",
        "    printf(\"Bitwise AND: %d\\n\", m & n);\n",
        "    printf(\"Bitwise OR: %d\\n\", m | n);\n",
        "    printf(\"Bitwise XOR: %d\\n\", m ^ n);\n",
        "    printf(\"Bitwise Complement: %d\\n\", ~m);\n",
        "    printf(\"Left Shift: %d\\n\", m << 1);\n",
        "    printf(\"Right Shift: %d\\n\", m >> 1);\n",
        "    return 0;\n",
        "}\n"
      ],
      "metadata": {
        "colab": {
          "base_uri": "https://localhost:8080/"
        },
        "id": "QSK664TmGc5e",
        "outputId": "7c70603b-d687-4466-e69d-daa254b8746a"
      },
      "execution_count": 12,
      "outputs": [
        {
          "output_type": "stream",
          "name": "stdout",
          "text": [
            "Overwriting Bitwise.c\n"
          ]
        }
      ]
    },
    {
      "cell_type": "code",
      "source": [
        "!gcc -o Bitwise Bitwise.c"
      ],
      "metadata": {
        "id": "KGij-URiGlOI"
      },
      "execution_count": 13,
      "outputs": []
    },
    {
      "cell_type": "code",
      "source": [
        "!./Bitwise\n"
      ],
      "metadata": {
        "colab": {
          "base_uri": "https://localhost:8080/"
        },
        "id": "P2zT8l1FGsuf",
        "outputId": "56bffbe3-cadf-495c-b1f8-03b3086b8bd8"
      },
      "execution_count": 14,
      "outputs": [
        {
          "output_type": "stream",
          "name": "stdout",
          "text": [
            "Bitwise AND: 1\n",
            "Bitwise OR: 7\n",
            "Bitwise XOR: 6\n",
            "Bitwise Complement: -6\n",
            "Left Shift: 10\n",
            "Right Shift: 2\n"
          ]
        }
      ]
    },
    {
      "cell_type": "markdown",
      "source": [
        " Assignment Operators"
      ],
      "metadata": {
        "id": "Ylue40J_GvUg"
      }
    },
    {
      "cell_type": "code",
      "source": [
        "%%writefile Assignment.c\n",
        "\n",
        "#include <stdio.h>\n",
        "\n",
        "int main() {\n",
        "    int a = 10;\n",
        "    a += 5; // Equivalent to a = a + 5\n",
        "    printf(\"a after += 5: %d\\n\", a);\n",
        "    a -= 2; // Equivalent to a = a - 2\n",
        "    printf(\"a after -= 2: %d\\n\", a);\n",
        "    a *= 3; // Equivalent to a = a * 3\n",
        "    printf(\"a after *= 3: %d\\n\", a);\n",
        "    a /= 2; // Equivalent to a = a / 2\n",
        "    printf(\"a after /= 2: %d\\n\", a);\n",
        "    return 0;\n",
        "}\n",
        "\n"
      ],
      "metadata": {
        "colab": {
          "base_uri": "https://localhost:8080/"
        },
        "id": "1RCWM91QGuhg",
        "outputId": "3ad8e915-ebf5-425c-96ce-287c8cae4f75"
      },
      "execution_count": 18,
      "outputs": [
        {
          "output_type": "stream",
          "name": "stdout",
          "text": [
            "Overwriting Assignment.c\n"
          ]
        }
      ]
    },
    {
      "cell_type": "code",
      "source": [
        "!gcc -o Assignment Assignment.c"
      ],
      "metadata": {
        "id": "aNl_wNUtGz6h"
      },
      "execution_count": 19,
      "outputs": []
    },
    {
      "cell_type": "code",
      "source": [
        "!./Assignment\n"
      ],
      "metadata": {
        "colab": {
          "base_uri": "https://localhost:8080/"
        },
        "id": "HP5vGDX0G2MX",
        "outputId": "ba81da92-89e3-4283-c10f-fffc5f6290b5"
      },
      "execution_count": 20,
      "outputs": [
        {
          "output_type": "stream",
          "name": "stdout",
          "text": [
            "a after += 5: 15\n",
            "a after -= 2: 13\n",
            "a after *= 3: 39\n",
            "a after /= 2: 19\n"
          ]
        }
      ]
    },
    {
      "cell_type": "markdown",
      "source": [
        "Increment and Decrement Operators"
      ],
      "metadata": {
        "id": "iJQvJjHIG82W"
      }
    },
    {
      "cell_type": "code",
      "source": [
        "%%writefile inc_dec.c\n",
        "\n",
        "#include <stdio.h>\n",
        "\n",
        "int main() {\n",
        "    int x = 5;\n",
        "    printf(\"x before increment: %d\\n\", x);\n",
        "    printf(\"Post-increment: %d\\n\", x++);\n",
        "    printf(\"After post-increment: %d\\n\", x);\n",
        "    printf(\"Pre-increment: %d\\n\", ++x);\n",
        "    printf(\"x before decrement: %d\\n\", x);\n",
        "    printf(\"Post-decrement: %d\\n\", x--);\n",
        "    printf(\"After post-decrement: %d\\n\", x);\n",
        "    printf(\"Pre-decrement: %d\\n\", --x);\n",
        "    return 0;\n",
        "}\n",
        "\n"
      ],
      "metadata": {
        "colab": {
          "base_uri": "https://localhost:8080/"
        },
        "id": "nrSr2zsqG4U_",
        "outputId": "c384d320-663f-4a3c-9a02-8ffac50bd4b9"
      },
      "execution_count": 21,
      "outputs": [
        {
          "output_type": "stream",
          "name": "stdout",
          "text": [
            "Writing inc_dec.c\n"
          ]
        }
      ]
    },
    {
      "cell_type": "code",
      "source": [
        "!gcc -o inc_dec inc_dec.c"
      ],
      "metadata": {
        "id": "dQRxeGaxHNJg"
      },
      "execution_count": 22,
      "outputs": []
    },
    {
      "cell_type": "code",
      "source": [
        "!./inc_dec\n"
      ],
      "metadata": {
        "colab": {
          "base_uri": "https://localhost:8080/"
        },
        "id": "8-b1Qqk6HQlh",
        "outputId": "3eef6dc2-f7a6-4e88-d98a-39df61eb8581"
      },
      "execution_count": 23,
      "outputs": [
        {
          "output_type": "stream",
          "name": "stdout",
          "text": [
            "x before increment: 5\n",
            "Post-increment: 5\n",
            "After post-increment: 6\n",
            "Pre-increment: 7\n",
            "x before decrement: 7\n",
            "Post-decrement: 7\n",
            "After post-decrement: 6\n",
            "Pre-decrement: 5\n"
          ]
        }
      ]
    },
    {
      "cell_type": "markdown",
      "source": [
        "Conditional (Ternary) Operator"
      ],
      "metadata": {
        "id": "N801w8cEHYs5"
      }
    },
    {
      "cell_type": "code",
      "source": [
        "%%writefile Conditional.c\n",
        "\n",
        "#include <stdio.h>\n",
        "\n",
        "int main() {\n",
        "    int num = 10;\n",
        "    int result = (num % 2 == 0) ? 1 : 0;\n",
        "    printf(\"Number is even (1) or odd (0): %d\\n\", result);\n",
        "    return 0;\n",
        "}\n"
      ],
      "metadata": {
        "colab": {
          "base_uri": "https://localhost:8080/"
        },
        "id": "10jbrxY_HSgP",
        "outputId": "09dc6894-0e14-4276-a637-78ac24a85b30"
      },
      "execution_count": 24,
      "outputs": [
        {
          "output_type": "stream",
          "name": "stdout",
          "text": [
            "Writing Conditional.c\n"
          ]
        }
      ]
    },
    {
      "cell_type": "code",
      "source": [
        "!gcc -o Conditional Conditional.c"
      ],
      "metadata": {
        "id": "xFu17J7AHd8H"
      },
      "execution_count": 25,
      "outputs": []
    },
    {
      "cell_type": "code",
      "source": [
        "!./Conditional\n"
      ],
      "metadata": {
        "colab": {
          "base_uri": "https://localhost:8080/"
        },
        "id": "MBgyO43cHg3U",
        "outputId": "6872a7f2-27fd-4735-f169-6054774472ac"
      },
      "execution_count": 26,
      "outputs": [
        {
          "output_type": "stream",
          "name": "stdout",
          "text": [
            "Number is even (1) or odd (0): 1\n"
          ]
        }
      ]
    },
    {
      "cell_type": "markdown",
      "source": [
        "Sizeof Operator"
      ],
      "metadata": {
        "id": "VEhL-7DMHpe5"
      }
    },
    {
      "cell_type": "code",
      "source": [
        "%%writefile Sizeof.c\n",
        "\n",
        "#include <stdio.h>\n",
        "\n",
        "int main() {\n",
        "    printf(\"Size of int: %lu bytes\\n\", sizeof(int));\n",
        "    printf(\"Size of float: %lu bytes\\n\", sizeof(float));\n",
        "    printf(\"Size of char: %lu bytes\\n\", sizeof(char));\n",
        "    return 0;\n",
        "}\n"
      ],
      "metadata": {
        "colab": {
          "base_uri": "https://localhost:8080/"
        },
        "id": "EzapGxxcHiyZ",
        "outputId": "31f43fd6-4fd8-424a-9d47-5f362fcc8921"
      },
      "execution_count": 28,
      "outputs": [
        {
          "output_type": "stream",
          "name": "stdout",
          "text": [
            "Writing Sizeof.c\n"
          ]
        }
      ]
    },
    {
      "cell_type": "code",
      "source": [
        "!gcc -o Sizeof Sizeof.c"
      ],
      "metadata": {
        "id": "978_RabYHuLX"
      },
      "execution_count": 29,
      "outputs": []
    },
    {
      "cell_type": "code",
      "source": [
        "!./Sizeof\n"
      ],
      "metadata": {
        "colab": {
          "base_uri": "https://localhost:8080/"
        },
        "id": "mgrGnyIRHzJB",
        "outputId": "69097990-649e-47c8-d21c-9224d4cc29bd"
      },
      "execution_count": 30,
      "outputs": [
        {
          "output_type": "stream",
          "name": "stdout",
          "text": [
            "Size of int: 4 bytes\n",
            "Size of float: 4 bytes\n",
            "Size of char: 1 bytes\n"
          ]
        }
      ]
    },
    {
      "cell_type": "code",
      "source": [],
      "metadata": {
        "id": "PhkecOrSH05O"
      },
      "execution_count": null,
      "outputs": []
    }
  ]
}