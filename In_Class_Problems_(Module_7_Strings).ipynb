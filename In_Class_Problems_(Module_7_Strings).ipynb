{
  "nbformat": 4,
  "nbformat_minor": 0,
  "metadata": {
    "colab": {
      "provenance": []
    },
    "kernelspec": {
      "name": "python3",
      "display_name": "Python 3"
    },
    "language_info": {
      "name": "python"
    }
  },
  "cells": [
    {
      "cell_type": "markdown",
      "source": [
        "1. Basic String Input and Output"
      ],
      "metadata": {
        "id": "pZtSwicGSQi4"
      }
    },
    {
      "cell_type": "code",
      "execution_count": 1,
      "metadata": {
        "colab": {
          "base_uri": "https://localhost:8080/"
        },
        "id": "_Vr0bZB_SO4h",
        "outputId": "5a83fc4a-18b4-4a70-c7b4-82faa8207140"
      },
      "outputs": [
        {
          "output_type": "stream",
          "name": "stdout",
          "text": [
            "Writing String.c\n"
          ]
        }
      ],
      "source": [
        "%%writefile String.c\n",
        "\n",
        "\n",
        "#include <stdio.h>\n",
        "int main() {\n",
        "    char str[100];\n",
        "    printf(\"Enter a string: \");\n",
        "    scanf(\"%s\", str); // Reads until first space\n",
        "    printf(\"Using printf: %s\\n\", str);\n",
        "    puts(\"Using puts:\");\n",
        "    puts(str);\n",
        "    return 0;\n",
        "}\n"
      ]
    },
    {
      "cell_type": "code",
      "source": [
        "!gcc -o String String.c"
      ],
      "metadata": {
        "id": "J59ik5jpSa2z"
      },
      "execution_count": 2,
      "outputs": []
    },
    {
      "cell_type": "code",
      "source": [
        "!./String"
      ],
      "metadata": {
        "colab": {
          "base_uri": "https://localhost:8080/"
        },
        "id": "X2B0KmXISdqS",
        "outputId": "560ab467-e64e-40af-f7bb-e3c134f5b757"
      },
      "execution_count": 3,
      "outputs": [
        {
          "output_type": "stream",
          "name": "stdout",
          "text": [
            "Enter a string: String\n",
            "Using printf: String\n",
            "Using puts:\n",
            "String\n"
          ]
        }
      ]
    },
    {
      "cell_type": "markdown",
      "source": [
        "2. Manual String Length"
      ],
      "metadata": {
        "id": "H8iRYYueSlVh"
      }
    },
    {
      "cell_type": "code",
      "source": [
        "%%writefile Length.c\n",
        "\n",
        "\n",
        "#include <stdio.h>\n",
        "int main() {\n",
        "    char str[100];\n",
        "    int len = 0;\n",
        "    printf(\"Enter a string: \");\n",
        "    scanf(\"%s\", str);\n",
        "    while (str[len] != '\\0') {\n",
        "        len++;\n",
        "    }\n",
        "    printf(\"Length of the string: %d\\n\", len);\n",
        "    return 0;\n",
        "}\n",
        "\n"
      ],
      "metadata": {
        "colab": {
          "base_uri": "https://localhost:8080/"
        },
        "id": "ksoBjHhfSf5D",
        "outputId": "fbb947e8-e429-4974-bce8-ac2eb0996b4a"
      },
      "execution_count": 4,
      "outputs": [
        {
          "output_type": "stream",
          "name": "stdout",
          "text": [
            "Writing Length.c\n"
          ]
        }
      ]
    },
    {
      "cell_type": "code",
      "source": [
        "!gcc -o Length Length.c"
      ],
      "metadata": {
        "id": "jqB8D_pGSqB4"
      },
      "execution_count": 5,
      "outputs": []
    },
    {
      "cell_type": "code",
      "source": [
        "!./Length"
      ],
      "metadata": {
        "colab": {
          "base_uri": "https://localhost:8080/"
        },
        "id": "CoV_VoRwSssK",
        "outputId": "97b2b048-b920-4fc9-d4d3-1d9bc2238d88"
      },
      "execution_count": 6,
      "outputs": [
        {
          "output_type": "stream",
          "name": "stdout",
          "text": [
            "Enter a string: Length\n",
            "Length of the string: 6\n"
          ]
        }
      ]
    },
    {
      "cell_type": "markdown",
      "source": [
        "3. String Copy Without strcpy()"
      ],
      "metadata": {
        "id": "sNXXdoZ8SzFv"
      }
    },
    {
      "cell_type": "code",
      "source": [
        "%%writefile Copy.c\n",
        "\n",
        "\n",
        "#include <stdio.h>\n",
        "int main() {\n",
        "    char source[100], dest[100];\n",
        "    int i = 0;\n",
        "    printf(\"Enter a string to copy: \");\n",
        "    scanf(\"%s\", source);\n",
        "    while (source[i] != '\\0') {\n",
        "        dest[i] = source[i];\n",
        "        i++;\n",
        "    }\n",
        "    dest[i] = '\\0'; // Null terminator\n",
        "    printf(\"Copied string: %s\\n\", dest);\n",
        "    return 0;\n",
        "}\n",
        "\n",
        "\n"
      ],
      "metadata": {
        "colab": {
          "base_uri": "https://localhost:8080/"
        },
        "id": "mScBQiQVSw3B",
        "outputId": "8ea90c96-8891-4113-e90b-2c96c4ce86c0"
      },
      "execution_count": 8,
      "outputs": [
        {
          "output_type": "stream",
          "name": "stdout",
          "text": [
            "Writing Copy.c\n"
          ]
        }
      ]
    },
    {
      "cell_type": "code",
      "source": [
        "!gcc -o Copy Copy.c"
      ],
      "metadata": {
        "id": "C7hMOfiNS38Y"
      },
      "execution_count": 9,
      "outputs": []
    },
    {
      "cell_type": "code",
      "source": [
        "!./Copy"
      ],
      "metadata": {
        "colab": {
          "base_uri": "https://localhost:8080/"
        },
        "id": "SRFR1qI1S7RX",
        "outputId": "653839be-672f-446b-de1c-3ed1628163ee"
      },
      "execution_count": 10,
      "outputs": [
        {
          "output_type": "stream",
          "name": "stdout",
          "text": [
            "Enter a string to copy: Length\n",
            "Copied string: Length\n"
          ]
        }
      ]
    },
    {
      "cell_type": "markdown",
      "source": [
        "4. String Comparison"
      ],
      "metadata": {
        "id": "j0RD_DlcTFnw"
      }
    },
    {
      "cell_type": "code",
      "source": [
        "%%writefile Comparison.c\n",
        "\n",
        "#include <stdio.h>\n",
        "#include <string.h>\n",
        "int main() {\n",
        "    char str1[100], str2[100];\n",
        "    printf(\"Enter first string: \");\n",
        "    scanf(\"%s\", str1);\n",
        "    printf(\"Enter second string: \");\n",
        "    scanf(\"%s\", str2);\n",
        "    if (strcmp(str1, str2) == 0)\n",
        "        printf(\"Strings are equal\\n\");\n",
        "    else\n",
        "        printf(\"Strings are not equal\\n\");\n",
        "    return 0;\n",
        "}\n"
      ],
      "metadata": {
        "colab": {
          "base_uri": "https://localhost:8080/"
        },
        "id": "c5QI-GJGS9KX",
        "outputId": "6d6c62d5-aade-4f3b-ae18-75051fccd3a6"
      },
      "execution_count": 11,
      "outputs": [
        {
          "output_type": "stream",
          "name": "stdout",
          "text": [
            "Writing Comparison.c\n"
          ]
        }
      ]
    },
    {
      "cell_type": "code",
      "source": [
        "!gcc -o Comparison Comparison.c"
      ],
      "metadata": {
        "id": "sF3KItClTKfh"
      },
      "execution_count": 12,
      "outputs": []
    },
    {
      "cell_type": "code",
      "source": [
        "!./Comparison"
      ],
      "metadata": {
        "colab": {
          "base_uri": "https://localhost:8080/"
        },
        "id": "A4JwsDFKTPUg",
        "outputId": "7d002f23-0bbc-4e95-a424-931ddf6078fc"
      },
      "execution_count": 13,
      "outputs": [
        {
          "output_type": "stream",
          "name": "stdout",
          "text": [
            "Enter first string: Length\n",
            "Enter second string: Copy\n",
            "Strings are not equal\n"
          ]
        }
      ]
    },
    {
      "cell_type": "markdown",
      "source": [
        "5. String Concatenation"
      ],
      "metadata": {
        "id": "290dGcGgTU5d"
      }
    },
    {
      "cell_type": "code",
      "source": [
        "%%writefile Concatenation.c\n",
        "\n",
        "#include <stdio.h>\n",
        "#include <string.h>\n",
        "int main() {\n",
        "    char str1[100], str2[100];\n",
        "    printf(\"Enter first string: \");\n",
        "    scanf(\"%s\", str1);\n",
        "    printf(\"Enter second string: \");\n",
        "    scanf(\"%s\", str2);\n",
        "    strcat(str1, str2);\n",
        "    printf(\"Concatenated string: %s\\n\", str1);\n",
        "    return 0;\n",
        "}\n",
        "\n"
      ],
      "metadata": {
        "colab": {
          "base_uri": "https://localhost:8080/"
        },
        "id": "vViIC1EWTRPA",
        "outputId": "eab61df8-e864-4f5b-e91c-7a8bc716db12"
      },
      "execution_count": 14,
      "outputs": [
        {
          "output_type": "stream",
          "name": "stdout",
          "text": [
            "Writing Concatenation.c\n"
          ]
        }
      ]
    },
    {
      "cell_type": "code",
      "source": [
        "!gcc -o Concatenation Concatenation.c"
      ],
      "metadata": {
        "id": "BPoKy-PHTb_4"
      },
      "execution_count": 15,
      "outputs": []
    },
    {
      "cell_type": "code",
      "source": [
        "!./Concatenation"
      ],
      "metadata": {
        "colab": {
          "base_uri": "https://localhost:8080/"
        },
        "id": "0Ip_t0J5TeU4",
        "outputId": "ebfd0d66-d207-4164-d0c8-f609c053c75b"
      },
      "execution_count": 16,
      "outputs": [
        {
          "output_type": "stream",
          "name": "stdout",
          "text": [
            "Enter first string: Length\n",
            "Enter second string: Copy\n",
            "Concatenated string: LengthCopy\n"
          ]
        }
      ]
    },
    {
      "cell_type": "markdown",
      "source": [
        "6. Reverse a String"
      ],
      "metadata": {
        "id": "RxoIqD4qTjC5"
      }
    },
    {
      "cell_type": "code",
      "source": [
        "%%writefile Reverse.c\n",
        "\n",
        "#include <stdio.h>\n",
        "#include <string.h>\n",
        "int main() {\n",
        "    char str[100];\n",
        "    int len, i;\n",
        "    printf(\"Enter a string: \");\n",
        "    scanf(\"%s\", str);\n",
        "    len = strlen(str);\n",
        "    printf(\"Reversed string: \");\n",
        "    for (i = len - 1; i >= 0; i--) {\n",
        "        printf(\"%c\", str[i]);\n",
        "    }\n",
        "    printf(\"\\n\");\n",
        "    return 0;\n",
        "}\n",
        "\n",
        "\n"
      ],
      "metadata": {
        "colab": {
          "base_uri": "https://localhost:8080/"
        },
        "id": "hhYwhz1dTgiJ",
        "outputId": "15ccf957-8849-4ba0-abf6-cac2faf1c183"
      },
      "execution_count": 17,
      "outputs": [
        {
          "output_type": "stream",
          "name": "stdout",
          "text": [
            "Writing Reverse.c\n"
          ]
        }
      ]
    },
    {
      "cell_type": "code",
      "source": [
        "!gcc -o Reverse Reverse.c"
      ],
      "metadata": {
        "id": "nwCFCwVmTrZ4"
      },
      "execution_count": 18,
      "outputs": []
    },
    {
      "cell_type": "code",
      "source": [
        "!./Reverse"
      ],
      "metadata": {
        "colab": {
          "base_uri": "https://localhost:8080/"
        },
        "id": "jWNvaOpITt3e",
        "outputId": "832cb3eb-f39f-41dc-9f92-95daa476a504"
      },
      "execution_count": 19,
      "outputs": [
        {
          "output_type": "stream",
          "name": "stdout",
          "text": [
            "Enter a string: Length\n",
            "Reversed string: htgneL\n"
          ]
        }
      ]
    },
    {
      "cell_type": "markdown",
      "source": [
        "7. Palindrome Checker"
      ],
      "metadata": {
        "id": "9F2PBrwlTzvz"
      }
    },
    {
      "cell_type": "code",
      "source": [
        "%%writefile Palindrome.c\n",
        "\n",
        "#include <stdio.h>\n",
        "#include <string.h>\n",
        "int main() {\n",
        "    char str[100];\n",
        "    int i, len, flag = 1;\n",
        "    printf(\"Enter a string: \");\n",
        "    scanf(\"%s\", str);\n",
        "    len = strlen(str);\n",
        "    for (i = 0; i < len / 2; i++) {\n",
        "        if (str[i] != str[len - i - 1]) {\n",
        "            flag = 0;\n",
        "            break;\n",
        "        }\n",
        "    }\n",
        "    if (flag)\n",
        "        printf(\"Palindrome\\n\");\n",
        "    else\n",
        "        printf(\"Not Palindrome\\n\");\n",
        "    return 0;\n",
        "}\n",
        "\n"
      ],
      "metadata": {
        "colab": {
          "base_uri": "https://localhost:8080/"
        },
        "id": "E9zHZ3H0Twug",
        "outputId": "6c1da3e7-9941-4cf2-91e7-d884a299b14b"
      },
      "execution_count": 20,
      "outputs": [
        {
          "output_type": "stream",
          "name": "stdout",
          "text": [
            "Writing Palindrome.c\n"
          ]
        }
      ]
    },
    {
      "cell_type": "code",
      "source": [
        "!gcc -o Palindrome Palindrome.c"
      ],
      "metadata": {
        "id": "aiXlgcF4T5Ax"
      },
      "execution_count": 21,
      "outputs": []
    },
    {
      "cell_type": "code",
      "source": [
        "!./Palindrome"
      ],
      "metadata": {
        "colab": {
          "base_uri": "https://localhost:8080/"
        },
        "id": "xjC73wSST7lW",
        "outputId": "9e0f7f1e-57ee-4f7c-d1d0-8a30744db250"
      },
      "execution_count": 22,
      "outputs": [
        {
          "output_type": "stream",
          "name": "stdout",
          "text": [
            "Enter a string: Length\n",
            "Not Palindrome\n"
          ]
        }
      ]
    },
    {
      "cell_type": "markdown",
      "source": [
        "8. Count Vowels, Consonants, Digits, and Spaces"
      ],
      "metadata": {
        "id": "6Bbz8bkHUGNu"
      }
    },
    {
      "cell_type": "code",
      "source": [
        "%%writefile Vowels.c\n",
        "\n",
        "#include <stdio.h>\n",
        "#include <ctype.h>\n",
        "int main() {\n",
        "    char str[200];\n",
        "    int vowels = 0, consonants = 0, digits = 0, spaces = 0;\n",
        "    printf(\"Enter a sentence: \");\n",
        "    getchar(); // To consume the newline from previous input\n",
        "    fgets(str, sizeof(str), stdin);\n",
        "\n",
        "    for (int i = 0; str[i] != '\\0'; i++) {\n",
        "        char ch = tolower(str[i]);\n",
        "        if (ch >= 'a' && ch <= 'z') {\n",
        "            if (ch == 'a' || ch == 'e' || ch == 'i' || ch == 'o' || ch == 'u')\n",
        "                vowels++;\n",
        "            else\n",
        "                consonants++;\n",
        "        } else if (ch >= '0' && ch <= '9') {\n",
        "            digits++;\n",
        "        } else if (ch == ' ') {\n",
        "            spaces++;\n",
        "        }\n",
        "    }\n",
        "    printf(\"Vowels: %d\\nConsonants: %d\\nDigits: %d\\nSpaces: %d\\n\", vowels, consonants, digits, spaces);\n",
        "    return 0;\n",
        "}\n",
        "\n"
      ],
      "metadata": {
        "colab": {
          "base_uri": "https://localhost:8080/"
        },
        "id": "uSxKW5DMT9wY",
        "outputId": "fc7e39ee-8087-486f-eaf3-1a6799107170"
      },
      "execution_count": 23,
      "outputs": [
        {
          "output_type": "stream",
          "name": "stdout",
          "text": [
            "Writing Vowels.c\n"
          ]
        }
      ]
    },
    {
      "cell_type": "code",
      "source": [
        "!gcc -o Vowels Vowels.c"
      ],
      "metadata": {
        "id": "IkBYdpuaULXQ"
      },
      "execution_count": 24,
      "outputs": []
    },
    {
      "cell_type": "code",
      "source": [
        "!./Vowels"
      ],
      "metadata": {
        "colab": {
          "base_uri": "https://localhost:8080/"
        },
        "id": "t0UgJWjKUOcW",
        "outputId": "5619b84d-ab7c-448e-9a59-aec346b109f2"
      },
      "execution_count": 25,
      "outputs": [
        {
          "output_type": "stream",
          "name": "stdout",
          "text": [
            "Enter a sentence: aei9o\n",
            "Vowels: 3\n",
            "Consonants: 0\n",
            "Digits: 1\n",
            "Spaces: 0\n"
          ]
        }
      ]
    },
    {
      "cell_type": "markdown",
      "source": [
        " 9. Convert Uppercase to Lowercase and Vice Versa"
      ],
      "metadata": {
        "id": "Q0tJZ4LVUT6f"
      }
    },
    {
      "cell_type": "code",
      "source": [
        "%%writefile Upper.c\n",
        "\n",
        "#include <stdio.h>\n",
        "int main() {\n",
        "    char str[100];\n",
        "    int i = 0;\n",
        "    printf(\"Enter a string: \");\n",
        "    scanf(\"%s\", str);\n",
        "    while (str[i] != '\\0') {\n",
        "        if (str[i] >= 'A' && str[i] <= 'Z')\n",
        "            str[i] = str[i] + 32;\n",
        "        else if (str[i] >= 'a' && str[i] <= 'z')\n",
        "            str[i] = str[i] - 32;\n",
        "        i++;\n",
        "    }\n",
        "    printf(\"Converted string: %s\\n\", str);\n",
        "    return 0;\n",
        "}\n",
        "\n"
      ],
      "metadata": {
        "colab": {
          "base_uri": "https://localhost:8080/"
        },
        "id": "k1ZufviEUQqX",
        "outputId": "5af35e69-00ac-4b54-bcb5-40e4819c628c"
      },
      "execution_count": 26,
      "outputs": [
        {
          "output_type": "stream",
          "name": "stdout",
          "text": [
            "Writing Upper.c\n"
          ]
        }
      ]
    },
    {
      "cell_type": "code",
      "source": [
        "!gcc -o Upper Upper.c"
      ],
      "metadata": {
        "id": "1gWsGtPUUa-x"
      },
      "execution_count": 27,
      "outputs": []
    },
    {
      "cell_type": "code",
      "source": [
        "!./Upper"
      ],
      "metadata": {
        "colab": {
          "base_uri": "https://localhost:8080/"
        },
        "id": "XS49-vHUUdk3",
        "outputId": "63a43a9c-0ec9-44d1-cd8a-0a805336725f"
      },
      "execution_count": 28,
      "outputs": [
        {
          "output_type": "stream",
          "name": "stdout",
          "text": [
            "Enter a string: Length\n",
            "Converted string: lENGTH\n"
          ]
        }
      ]
    },
    {
      "cell_type": "markdown",
      "source": [
        "10. Frequency of a Character"
      ],
      "metadata": {
        "id": "3m3rQ7oKUjxe"
      }
    },
    {
      "cell_type": "code",
      "source": [
        "%%writefile Frequency.c\n",
        "\n",
        "#include <stdio.h>\n",
        "int main() {\n",
        "    char str[100], ch;\n",
        "    int i, count = 0;\n",
        "    printf(\"Enter a string: \");\n",
        "    scanf(\"%s\", str);\n",
        "    printf(\"Enter a character to search: \");\n",
        "    scanf(\" %c\", &ch);\n",
        "\n",
        "    for (i = 0; str[i] != '\\0'; i++) {\n",
        "        if (str[i] == ch)\n",
        "            count++;\n",
        "    }\n",
        "    printf(\"Character '%c' appears %d times\\n\", ch, count);\n",
        "    return 0;\n",
        "}\n",
        "\n"
      ],
      "metadata": {
        "colab": {
          "base_uri": "https://localhost:8080/"
        },
        "id": "A-o4hTHcUfrO",
        "outputId": "0503a3c1-3ee1-4d16-b41c-d5ed1a6b291e"
      },
      "execution_count": 29,
      "outputs": [
        {
          "output_type": "stream",
          "name": "stdout",
          "text": [
            "Writing Frequency.c\n"
          ]
        }
      ]
    },
    {
      "cell_type": "code",
      "source": [
        "!gcc -o Frequency Frequency.c"
      ],
      "metadata": {
        "id": "l2x-gQrLUoAt"
      },
      "execution_count": 30,
      "outputs": []
    },
    {
      "cell_type": "code",
      "source": [
        "!./Frequency"
      ],
      "metadata": {
        "colab": {
          "base_uri": "https://localhost:8080/"
        },
        "id": "jzcq64nCUq3N",
        "outputId": "cb14c136-5825-495f-8080-7a4f0f995cd6"
      },
      "execution_count": 31,
      "outputs": [
        {
          "output_type": "stream",
          "name": "stdout",
          "text": [
            "Enter a string: Length\n",
            "Enter a character to search: h\n",
            "Character 'h' appears 1 times\n"
          ]
        }
      ]
    },
    {
      "cell_type": "code",
      "source": [],
      "metadata": {
        "id": "pEqeco3aUs4o"
      },
      "execution_count": null,
      "outputs": []
    }
  ]
}