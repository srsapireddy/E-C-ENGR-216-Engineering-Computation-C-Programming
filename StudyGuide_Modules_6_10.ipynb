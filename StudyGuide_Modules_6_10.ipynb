{
  "nbformat": 4,
  "nbformat_minor": 0,
  "metadata": {
    "colab": {
      "provenance": []
    },
    "kernelspec": {
      "name": "python3",
      "display_name": "Python 3"
    },
    "language_info": {
      "name": "python"
    }
  },
  "cells": [
    {
      "cell_type": "markdown",
      "source": [
        "Question 1"
      ],
      "metadata": {
        "id": "Hr-yOfTRpJaf"
      }
    },
    {
      "cell_type": "code",
      "execution_count": 2,
      "metadata": {
        "colab": {
          "base_uri": "https://localhost:8080/"
        },
        "id": "C-dl37Lcn7Td",
        "outputId": "46c5e1b3-b506-452d-909a-5e2b8fd0ad17"
      },
      "outputs": [
        {
          "output_type": "stream",
          "name": "stdout",
          "text": [
            "Writing ternary_max.c\n"
          ]
        }
      ],
      "source": [
        "# Write the C program to a file\n",
        "%%writefile ternary_max.c\n",
        "#include <stdio.h>\n",
        "\n",
        "int main() {\n",
        "    int a = 8, b = 12;\n",
        "    int max = (a > b) ? a : b;\n",
        "    printf(\"Maximum value is: %d\\n\", max);\n",
        "    return 0;\n",
        "}\n"
      ]
    },
    {
      "cell_type": "code",
      "source": [
        "# Compile and run\n",
        "!gcc ternary_max.c -o ternary_max\n",
        "!./ternary_max\n"
      ],
      "metadata": {
        "colab": {
          "base_uri": "https://localhost:8080/"
        },
        "id": "NuculS-5pnE3",
        "outputId": "75b8c384-e1fb-4697-ce16-946e0566301e"
      },
      "execution_count": 3,
      "outputs": [
        {
          "output_type": "stream",
          "name": "stdout",
          "text": [
            "Maximum value is: 12\n"
          ]
        }
      ]
    },
    {
      "cell_type": "markdown",
      "source": [
        "int max = (a > b) ? a : b;\n"
      ],
      "metadata": {
        "id": "OnYUmsl8pTkq"
      }
    },
    {
      "cell_type": "markdown",
      "source": [
        "Question 2"
      ],
      "metadata": {
        "id": "qb8VHE1YpLZP"
      }
    },
    {
      "cell_type": "code",
      "source": [
        "# Write the C program to a file\n",
        "%%writefile nested_ternary.c\n",
        "#include <stdio.h>\n",
        "\n",
        "int main() {\n",
        "    int x = 3, y = 5, z = 7;\n",
        "    int result;\n",
        "\n",
        "    result = (x > y) ? x : (y > z ? y : z);\n",
        "\n",
        "    printf(\"Result = %d\\n\", result);\n",
        "    return 0;\n",
        "}\n"
      ],
      "metadata": {
        "colab": {
          "base_uri": "https://localhost:8080/"
        },
        "id": "k9Z7-F4YpK5w",
        "outputId": "bba775b9-72d8-4eb5-8654-d948412879a6"
      },
      "execution_count": 4,
      "outputs": [
        {
          "output_type": "stream",
          "name": "stdout",
          "text": [
            "Writing nested_ternary.c\n"
          ]
        }
      ]
    },
    {
      "cell_type": "code",
      "source": [
        "# Compile and run\n",
        "!gcc nested_ternary.c -o nested_ternary\n",
        "!./nested_ternary\n"
      ],
      "metadata": {
        "colab": {
          "base_uri": "https://localhost:8080/"
        },
        "id": "OGVK46qpppgv",
        "outputId": "15fd6855-e568-4207-d330-4274a7fd486d"
      },
      "execution_count": 5,
      "outputs": [
        {
          "output_type": "stream",
          "name": "stdout",
          "text": [
            "Result = 7\n"
          ]
        }
      ]
    },
    {
      "cell_type": "markdown",
      "source": [
        "Question 3"
      ],
      "metadata": {
        "id": "0Bhn9n3sprZG"
      }
    },
    {
      "cell_type": "code",
      "source": [
        "# Step 1: Write the C program to a file\n",
        "%%writefile logical_operators.c\n",
        "#include <stdio.h>\n",
        "\n",
        "int main() {\n",
        "    int x = 8, y = 4;\n",
        "\n",
        "    // Logical AND\n",
        "    if (x > 5 && y < 10)\n",
        "        printf(\"Logical AND is TRUE\\n\");\n",
        "    else\n",
        "        printf(\"Logical AND is FALSE\\n\");\n",
        "\n",
        "    // Logical OR\n",
        "    if (x < 5 || y < 10)\n",
        "        printf(\"Logical OR is TRUE\\n\");\n",
        "    else\n",
        "        printf(\"Logical OR is FALSE\\n\");\n",
        "\n",
        "    // Logical NOT\n",
        "    if (!(x == y))\n",
        "        printf(\"Logical NOT is TRUE (x != y)\\n\");\n",
        "    else\n",
        "        printf(\"Logical NOT is FALSE (x == y)\\n\");\n",
        "\n",
        "    return 0;\n",
        "}\n"
      ],
      "metadata": {
        "colab": {
          "base_uri": "https://localhost:8080/"
        },
        "id": "pIv206wOpqjq",
        "outputId": "3ad0c37a-57c6-4953-b5da-43a5e6504f5a"
      },
      "execution_count": 6,
      "outputs": [
        {
          "output_type": "stream",
          "name": "stdout",
          "text": [
            "Writing logical_operators.c\n"
          ]
        }
      ]
    },
    {
      "cell_type": "code",
      "source": [
        "# Step 2: Compile and run the C program\n",
        "!gcc logical_operators.c -o logical_operators\n",
        "!./logical_operators\n"
      ],
      "metadata": {
        "colab": {
          "base_uri": "https://localhost:8080/"
        },
        "id": "bX7E8ScqqVNn",
        "outputId": "e3bf4fc4-f0da-4b83-8b50-b7b34f7dfcce"
      },
      "execution_count": 7,
      "outputs": [
        {
          "output_type": "stream",
          "name": "stdout",
          "text": [
            "Logical AND is TRUE\n",
            "Logical OR is TRUE\n",
            "Logical NOT is TRUE (x != y)\n"
          ]
        }
      ]
    },
    {
      "cell_type": "markdown",
      "source": [
        "Question 4"
      ],
      "metadata": {
        "id": "pLlweujIqXNY"
      }
    },
    {
      "cell_type": "code",
      "source": [
        "# Step 1: Write the C program to a file\n",
        "%%writefile switch_case_practice.c\n",
        "#include <stdio.h>\n",
        "\n",
        "int main() {\n",
        "    int day = 4;\n",
        "\n",
        "    switch(day) {\n",
        "        case 1:\n",
        "            printf(\"Monday\\n\");\n",
        "            break;\n",
        "        case 2:\n",
        "            printf(\"Tuesday\\n\");\n",
        "            break;\n",
        "        case 3:\n",
        "            printf(\"Wednesday\\n\");\n",
        "            break;\n",
        "        case 4:\n",
        "            printf(\"Thursday\\n\");\n",
        "            break;\n",
        "        case 5:\n",
        "            printf(\"Friday\\n\");\n",
        "            break;\n",
        "        default:\n",
        "            printf(\"Weekend\\n\");\n",
        "    }\n",
        "\n",
        "    return 0;\n",
        "}\n"
      ],
      "metadata": {
        "colab": {
          "base_uri": "https://localhost:8080/"
        },
        "id": "OWHLNep5qWXD",
        "outputId": "10f91c47-c0bc-4f4e-e8de-7e0dcd1f0e39"
      },
      "execution_count": 8,
      "outputs": [
        {
          "output_type": "stream",
          "name": "stdout",
          "text": [
            "Writing switch_case_practice.c\n"
          ]
        }
      ]
    },
    {
      "cell_type": "markdown",
      "source": [
        "Remove Break Statements"
      ],
      "metadata": {
        "id": "zPEfhW-hrDaH"
      }
    },
    {
      "cell_type": "code",
      "source": [
        "# Step 2: Compile and run the program\n",
        "!gcc switch_case_practice.c -o switch_case_practice\n",
        "!./switch_case_practice\n"
      ],
      "metadata": {
        "colab": {
          "base_uri": "https://localhost:8080/"
        },
        "id": "7dXwhZaaq0Ih",
        "outputId": "046474a2-a4de-4de1-8d04-00d8af91cfe9"
      },
      "execution_count": 9,
      "outputs": [
        {
          "output_type": "stream",
          "name": "stdout",
          "text": [
            "Thursday\n"
          ]
        }
      ]
    },
    {
      "cell_type": "markdown",
      "source": [
        "Question 5"
      ],
      "metadata": {
        "id": "s3evvd13rAg4"
      }
    },
    {
      "cell_type": "code",
      "source": [
        "# Step 1: Write the C code to a file\n",
        "%%writefile string_functions.c\n",
        "#include <stdio.h>\n",
        "#include <string.h>\n",
        "\n",
        "int main() {\n",
        "    char str1[50] = \"Hello\";\n",
        "    char str2[50] = \"World\";\n",
        "    char str3[50];\n",
        "\n",
        "    // 1. strlen()\n",
        "    printf(\"Length of str1 = %lu\\n\", strlen(str1));\n",
        "\n",
        "    // 2. strcpy()\n",
        "    strcpy(str3, str1);\n",
        "    printf(\"str3 after strcpy = %s\\n\", str3);\n",
        "\n",
        "    // 3. strcat()\n",
        "    strcat(str1, str2);\n",
        "    printf(\"str1 after strcat = %s\\n\", str1);\n",
        "\n",
        "    // 4. strcmp()\n",
        "    int cmp = strcmp(str1, str2);\n",
        "    if (cmp == 0)\n",
        "        printf(\"str1 and str2 are equal\\n\");\n",
        "    else\n",
        "        printf(\"str1 and str2 are not equal\\n\");\n",
        "\n",
        "    return 0;\n",
        "}\n"
      ],
      "metadata": {
        "colab": {
          "base_uri": "https://localhost:8080/"
        },
        "id": "JDaVKK-nrBY-",
        "outputId": "8ad4a7df-8fa9-4844-e4e4-a1b6329c21fa"
      },
      "execution_count": 10,
      "outputs": [
        {
          "output_type": "stream",
          "name": "stdout",
          "text": [
            "Writing string_functions.c\n"
          ]
        }
      ]
    },
    {
      "cell_type": "code",
      "source": [
        "# Step 2: Compile and run the program\n",
        "!gcc string_functions.c -o string_functions\n",
        "!./string_functions\n"
      ],
      "metadata": {
        "colab": {
          "base_uri": "https://localhost:8080/"
        },
        "id": "VRaJlgqtsDiZ",
        "outputId": "78d8ecfd-e538-4248-aeb6-c194d19a3183"
      },
      "execution_count": 11,
      "outputs": [
        {
          "output_type": "stream",
          "name": "stdout",
          "text": [
            "Length of str1 = 5\n",
            "str3 after strcpy = Hello\n",
            "str1 after strcat = HelloWorld\n",
            "str1 and str2 are not equal\n"
          ]
        }
      ]
    },
    {
      "cell_type": "markdown",
      "source": [
        "Question 6"
      ],
      "metadata": {
        "id": "k-YOUb0PsHAZ"
      }
    },
    {
      "cell_type": "code",
      "source": [
        "# Write C code to a file\n",
        "%%writefile sum_odd.c\n",
        "#include <stdio.h>\n",
        "\n",
        "int main() {\n",
        "    int i = 0, sum = 0;\n",
        "\n",
        "    while (i++ < 5) {\n",
        "        if (i % 2 == 0)\n",
        "            continue;\n",
        "        sum += i;\n",
        "    }\n",
        "\n",
        "    printf(\"Sum = %d\\n\", sum);\n",
        "    return 0;\n",
        "}\n"
      ],
      "metadata": {
        "colab": {
          "base_uri": "https://localhost:8080/"
        },
        "id": "D6HOWAwVsEv9",
        "outputId": "12c6b1b2-1ea2-4fc6-a707-98920c5180ab"
      },
      "execution_count": 14,
      "outputs": [
        {
          "output_type": "stream",
          "name": "stdout",
          "text": [
            "Overwriting sum_odd.c\n"
          ]
        }
      ]
    },
    {
      "cell_type": "code",
      "source": [
        "# Compile and run\n",
        "!gcc sum_odd.c -o sum_odd\n",
        "!./sum_odd\n"
      ],
      "metadata": {
        "colab": {
          "base_uri": "https://localhost:8080/"
        },
        "id": "dApLGwIRtXwQ",
        "outputId": "9e8ee844-41ba-4834-cd1e-68b9a150d627"
      },
      "execution_count": 15,
      "outputs": [
        {
          "output_type": "stream",
          "name": "stdout",
          "text": [
            "Sum = 9\n"
          ]
        }
      ]
    },
    {
      "cell_type": "markdown",
      "source": [
        "What happens if you change the condition to i < 6? </br>\n",
        "\n",
        "Add a printf(\"i = %d\\n\", i); inside the loop. What does it show? </br>\n",
        "\n",
        "What if you remove the continue? </br>"
      ],
      "metadata": {
        "id": "IRJSa-Avtcph"
      }
    },
    {
      "cell_type": "markdown",
      "source": [
        "Question 7"
      ],
      "metadata": {
        "id": "dp9Ftx6Ptgh3"
      }
    },
    {
      "cell_type": "code",
      "source": [
        "# Write and run in Colab\n",
        "%%writefile pass_by_value.c\n",
        "#include <stdio.h>\n",
        "\n",
        "void update(int a, int b) {\n",
        "    a += 10;\n",
        "    b += 20;\n",
        "}\n",
        "\n",
        "int main() {\n",
        "    int x = 10, y = 15;\n",
        "    update(x, y);\n",
        "    printf(\"x = %d, y = %d\\n\", x, y);  // Expected: 5 10\n",
        "    return 0;\n",
        "}\n"
      ],
      "metadata": {
        "colab": {
          "base_uri": "https://localhost:8080/"
        },
        "id": "0I-k4xeDtZLY",
        "outputId": "e02298bf-7925-4cc5-cc04-1b23e926fcaf"
      },
      "execution_count": 16,
      "outputs": [
        {
          "output_type": "stream",
          "name": "stdout",
          "text": [
            "Writing pass_by_value.c\n"
          ]
        }
      ]
    },
    {
      "cell_type": "code",
      "source": [
        "!gcc pass_by_value.c -o pass_by_value\n",
        "!./pass_by_value\n"
      ],
      "metadata": {
        "colab": {
          "base_uri": "https://localhost:8080/"
        },
        "id": "iNvKvt39vyzK",
        "outputId": "2c6653ac-ed06-427d-d070-0fa98dd3ffac"
      },
      "execution_count": 17,
      "outputs": [
        {
          "output_type": "stream",
          "name": "stdout",
          "text": [
            "x = 10, y = 15\n"
          ]
        }
      ]
    },
    {
      "cell_type": "markdown",
      "source": [
        "Question 8"
      ],
      "metadata": {
        "id": "cIi7dUlav9Ea"
      }
    },
    {
      "cell_type": "code",
      "source": [
        "%%writefile square_expression.c\n",
        "#include <stdio.h>\n",
        "\n",
        "int square(int x) {\n",
        "    return x + x;\n",
        "}\n",
        "\n",
        "int main() {\n",
        "    int result = square(12 + 13);\n",
        "    printf(\"Result = %d\\n\", result);  // Expected: 25\n",
        "    return 0;\n",
        "}\n"
      ],
      "metadata": {
        "colab": {
          "base_uri": "https://localhost:8080/"
        },
        "id": "23s1BZH4vzvQ",
        "outputId": "ca8538ab-8248-407d-a81e-99d0e036b433"
      },
      "execution_count": 19,
      "outputs": [
        {
          "output_type": "stream",
          "name": "stdout",
          "text": [
            "Overwriting square_expression.c\n"
          ]
        }
      ]
    },
    {
      "cell_type": "code",
      "source": [
        "!gcc square_expression.c -o square_expression\n",
        "!./square_expression\n"
      ],
      "metadata": {
        "colab": {
          "base_uri": "https://localhost:8080/"
        },
        "id": "DQiI9-62v_z-",
        "outputId": "04534531-752c-4804-c31e-c80d5aa57363"
      },
      "execution_count": 20,
      "outputs": [
        {
          "output_type": "stream",
          "name": "stdout",
          "text": [
            "Result = 50\n"
          ]
        }
      ]
    },
    {
      "cell_type": "markdown",
      "source": [
        "Question 9"
      ],
      "metadata": {
        "id": "NvKNlZMnwEiR"
      }
    },
    {
      "cell_type": "code",
      "source": [
        "%%writefile pointer_address.c\n",
        "#include <stdio.h>\n",
        "\n",
        "int main() {\n",
        "    int a = 25;\n",
        "    int *p = &a;\n",
        "\n",
        "    printf(\"Address of a: %p\\n\", &a);\n",
        "    printf(\"Value stored in p (should match a's address): %p\\n\", p);\n",
        "    printf(\"Value pointed by p: %d\\n\", *p);\n",
        "\n",
        "    return 0;\n",
        "}\n"
      ],
      "metadata": {
        "colab": {
          "base_uri": "https://localhost:8080/"
        },
        "id": "2PfB699nwDZO",
        "outputId": "84999c59-793f-4007-96e6-b22dbdf70c3b"
      },
      "execution_count": 21,
      "outputs": [
        {
          "output_type": "stream",
          "name": "stdout",
          "text": [
            "Writing pointer_address.c\n"
          ]
        }
      ]
    },
    {
      "cell_type": "code",
      "source": [
        "!gcc pointer_address.c -o pointer_address\n",
        "!./pointer_address\n"
      ],
      "metadata": {
        "colab": {
          "base_uri": "https://localhost:8080/"
        },
        "id": "emJriwq1yp9f",
        "outputId": "736a596c-e761-431b-d057-d9fe516472e7"
      },
      "execution_count": 22,
      "outputs": [
        {
          "output_type": "stream",
          "name": "stdout",
          "text": [
            "Address of a: 0x7ffdb900be3c\n",
            "Value stored in p (should match a's address): 0x7ffdb900be3c\n",
            "Value pointed by p: 25\n"
          ]
        }
      ]
    },
    {
      "cell_type": "markdown",
      "source": [
        "Question 10"
      ],
      "metadata": {
        "id": "qZJNYkm_yt1m"
      }
    },
    {
      "cell_type": "code",
      "source": [
        "# Step 1: Write the C code to file\n",
        "%%writefile string_null_demo.c\n",
        "#include <stdio.h>\n",
        "\n",
        "int main() {\n",
        "    // Case 1: Proper null-terminated string\n",
        "    char str1[6] = {'C', 'o', 'd', 'e', '\\0', 'X'};\n",
        "\n",
        "    // Case 2: Missing null terminator (unsafe)\n",
        "    char str2[5] = {'T', 'e', 's', 't', '!'};\n",
        "\n",
        "    printf(\"With null terminator: %s\\n\", str1);\n",
        "    printf(\"Without null terminator: %s\\n\", str2);  // May cause undefined behavior\n",
        "\n",
        "    return 0;\n",
        "}\n"
      ],
      "metadata": {
        "colab": {
          "base_uri": "https://localhost:8080/"
        },
        "id": "VxIjDdO2ysmX",
        "outputId": "8bb33004-dc91-44a3-a8e9-ee1e60b6687e"
      },
      "execution_count": 23,
      "outputs": [
        {
          "output_type": "stream",
          "name": "stdout",
          "text": [
            "Writing string_null_demo.c\n"
          ]
        }
      ]
    },
    {
      "cell_type": "code",
      "source": [
        "# Step 2: Compile and run\n",
        "!gcc string_null_demo.c -o string_null_demo\n",
        "!./string_null_demo\n"
      ],
      "metadata": {
        "colab": {
          "base_uri": "https://localhost:8080/"
        },
        "id": "PViipuxezr4A",
        "outputId": "79cfbddc-36a6-443e-83d2-98982ab01694"
      },
      "execution_count": 24,
      "outputs": [
        {
          "output_type": "stream",
          "name": "stdout",
          "text": [
            "With null terminator: Code\n",
            "Without null terminator: Test!Code\n"
          ]
        }
      ]
    },
    {
      "cell_type": "code",
      "source": [],
      "metadata": {
        "id": "WqLkwPqMzs1o"
      },
      "execution_count": null,
      "outputs": []
    }
  ]
}