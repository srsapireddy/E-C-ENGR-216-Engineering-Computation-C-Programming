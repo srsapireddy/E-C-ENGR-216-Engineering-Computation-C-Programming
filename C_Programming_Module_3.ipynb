{
  "nbformat": 4,
  "nbformat_minor": 0,
  "metadata": {
    "colab": {
      "provenance": []
    },
    "kernelspec": {
      "name": "python3",
      "display_name": "Python 3"
    },
    "language_info": {
      "name": "python"
    }
  },
  "cells": [
    {
      "cell_type": "markdown",
      "source": [
        " Basic Structure of a C Program"
      ],
      "metadata": {
        "id": "Lr2MK0zIDUji"
      }
    },
    {
      "cell_type": "code",
      "execution_count": 1,
      "metadata": {
        "colab": {
          "base_uri": "https://localhost:8080/"
        },
        "id": "K2AaQZsvDDKN",
        "outputId": "8a65a244-3b2d-4614-f2c3-084ceff1b6b9"
      },
      "outputs": [
        {
          "output_type": "stream",
          "name": "stdout",
          "text": [
            "Writing hello.c\n"
          ]
        }
      ],
      "source": [
        "%%writefile hello.c\n",
        "\n",
        "\n",
        "#include <stdio.h>\n",
        "\n",
        "int main() {\n",
        "    printf(\"Hello, World!\\n\");\n",
        "    return 0;\n",
        "}"
      ]
    },
    {
      "cell_type": "code",
      "source": [
        "!gcc --version"
      ],
      "metadata": {
        "colab": {
          "base_uri": "https://localhost:8080/"
        },
        "id": "jojG4vXBDMbX",
        "outputId": "337600ca-44b0-4cc4-9104-16351989f033"
      },
      "execution_count": 2,
      "outputs": [
        {
          "output_type": "stream",
          "name": "stdout",
          "text": [
            "gcc (Ubuntu 11.4.0-1ubuntu1~22.04) 11.4.0\n",
            "Copyright (C) 2021 Free Software Foundation, Inc.\n",
            "This is free software; see the source for copying conditions.  There is NO\n",
            "warranty; not even for MERCHANTABILITY or FITNESS FOR A PARTICULAR PURPOSE.\n",
            "\n"
          ]
        }
      ]
    },
    {
      "cell_type": "code",
      "source": [
        "!gcc -o hello hello.c"
      ],
      "metadata": {
        "id": "bKBhKHUADPRn"
      },
      "execution_count": 3,
      "outputs": []
    },
    {
      "cell_type": "code",
      "source": [
        "!./hello"
      ],
      "metadata": {
        "colab": {
          "base_uri": "https://localhost:8080/"
        },
        "id": "uXt0ybVmDSY_",
        "outputId": "f18425e5-a754-4f98-cbb0-70e33b003937"
      },
      "execution_count": 4,
      "outputs": [
        {
          "output_type": "stream",
          "name": "stdout",
          "text": [
            "Hello, World!\n"
          ]
        }
      ]
    },
    {
      "cell_type": "markdown",
      "source": [
        "Variables and Data Types"
      ],
      "metadata": {
        "id": "uq3M4MI7DcfN"
      }
    },
    {
      "cell_type": "code",
      "source": [
        "%%writefile var.c\n",
        "\n",
        "\n",
        "#include <stdio.h>\n",
        "\n",
        "int main() {\n",
        "    int a = 10;\n",
        "    float b = 5.5;\n",
        "    char c = 'A';\n",
        "    printf(\"Integer: %d, Float: %.1f, Character: %c\\n\", a, b, c);\n",
        "    return 0;\n",
        "}\n"
      ],
      "metadata": {
        "colab": {
          "base_uri": "https://localhost:8080/"
        },
        "id": "vDbYdYKuDfbm",
        "outputId": "b41f339c-6f4b-405c-9558-089255ddc9d2"
      },
      "execution_count": 5,
      "outputs": [
        {
          "output_type": "stream",
          "name": "stdout",
          "text": [
            "Writing var.c\n"
          ]
        }
      ]
    },
    {
      "cell_type": "code",
      "source": [
        "!gcc -o var var.c"
      ],
      "metadata": {
        "id": "W16Mwaq8DngO"
      },
      "execution_count": 6,
      "outputs": []
    },
    {
      "cell_type": "code",
      "source": [
        "!./var"
      ],
      "metadata": {
        "colab": {
          "base_uri": "https://localhost:8080/"
        },
        "id": "olUXCiCpDrMI",
        "outputId": "6c77b16d-9db9-48dd-a3bc-d14047baed7e"
      },
      "execution_count": 7,
      "outputs": [
        {
          "output_type": "stream",
          "name": "stdout",
          "text": [
            "Integer: 10, Float: 5.5, Character: A\n"
          ]
        }
      ]
    },
    {
      "cell_type": "markdown",
      "source": [
        "Operators and Expressions"
      ],
      "metadata": {
        "id": "8sz2b2MhDuA_"
      }
    },
    {
      "cell_type": "code",
      "source": [
        "%%writefile op.c\n",
        "\n",
        "\n",
        "#include <stdio.h>\n",
        "\n",
        "int main() {\n",
        "    int x = 10, y = 20;\n",
        "    int sum = x + y;\n",
        "    printf(\"Sum: %d\\n\", sum);\n",
        "    return 0;\n",
        "}\n",
        "\n"
      ],
      "metadata": {
        "colab": {
          "base_uri": "https://localhost:8080/"
        },
        "id": "YrlFXSKlDv0Y",
        "outputId": "ba3935ce-3656-4ea4-b90f-813b6e7d6d3e"
      },
      "execution_count": 8,
      "outputs": [
        {
          "output_type": "stream",
          "name": "stdout",
          "text": [
            "Writing op.c\n"
          ]
        }
      ]
    },
    {
      "cell_type": "code",
      "source": [
        "!gcc -o op op.c"
      ],
      "metadata": {
        "id": "9HJskHc9D1ru"
      },
      "execution_count": 9,
      "outputs": []
    },
    {
      "cell_type": "code",
      "source": [
        "!./op"
      ],
      "metadata": {
        "colab": {
          "base_uri": "https://localhost:8080/"
        },
        "id": "cPGhfpuRD4dh",
        "outputId": "cc551811-7a6f-4ee9-cd8e-5dd2e7e17a7e"
      },
      "execution_count": 10,
      "outputs": [
        {
          "output_type": "stream",
          "name": "stdout",
          "text": [
            "Sum: 30\n"
          ]
        }
      ]
    },
    {
      "cell_type": "markdown",
      "source": [
        "Control Flow Statements"
      ],
      "metadata": {
        "id": "lKDE68U_EAY4"
      }
    },
    {
      "cell_type": "code",
      "source": [
        "%%writefile control.c\n",
        "\n",
        "\n",
        "#include <stdio.h>\n",
        "\n",
        "int main() {\n",
        "    int num;\n",
        "    printf(\"Enter a number: \");\n",
        "    scanf(\"%d\", &num);\n",
        "    if (num > 0)\n",
        "        printf(\"Positive number\\n\");\n",
        "    else if (num < 0)\n",
        "        printf(\"Negative number\\n\");\n",
        "    else\n",
        "        printf(\"Zero\\n\");\n",
        "    return 0;\n",
        "}\n",
        "\n"
      ],
      "metadata": {
        "colab": {
          "base_uri": "https://localhost:8080/"
        },
        "id": "CyZeZyRCECP-",
        "outputId": "104ebdcd-fcbc-4cf5-b447-59bfda4088bc"
      },
      "execution_count": 11,
      "outputs": [
        {
          "output_type": "stream",
          "name": "stdout",
          "text": [
            "Writing control.c\n"
          ]
        }
      ]
    },
    {
      "cell_type": "code",
      "source": [
        "!gcc -o control control.c"
      ],
      "metadata": {
        "id": "PXlXz8fOEJA-"
      },
      "execution_count": 13,
      "outputs": []
    },
    {
      "cell_type": "code",
      "source": [
        "!./control"
      ],
      "metadata": {
        "colab": {
          "base_uri": "https://localhost:8080/"
        },
        "id": "jOy2ZfRPEM5f",
        "outputId": "c2bd5a15-8424-463d-f3fd-116c1aa767a5"
      },
      "execution_count": 15,
      "outputs": [
        {
          "output_type": "stream",
          "name": "stdout",
          "text": [
            "Enter a number: 4\n",
            "Positive number\n"
          ]
        }
      ]
    },
    {
      "cell_type": "markdown",
      "source": [
        "Loops in C"
      ],
      "metadata": {
        "id": "v0GgOq5YES1A"
      }
    },
    {
      "cell_type": "code",
      "source": [
        "%%writefile for.c\n",
        "\n",
        "\n",
        "#include <stdio.h>\n",
        "\n",
        "int main() {\n",
        "    int i;\n",
        "    for (i = 0; i < 5; i++) {\n",
        "        printf(\"Iteration: %d\\n\", i);\n",
        "    }\n",
        "    return 0;\n",
        "}\n",
        "\n"
      ],
      "metadata": {
        "colab": {
          "base_uri": "https://localhost:8080/"
        },
        "id": "1s0a35tmETwo",
        "outputId": "cb68b0eb-f561-4c5e-bf83-9a351e9e0523"
      },
      "execution_count": 16,
      "outputs": [
        {
          "output_type": "stream",
          "name": "stdout",
          "text": [
            "Writing for.c\n"
          ]
        }
      ]
    },
    {
      "cell_type": "code",
      "source": [
        "!gcc -o for for.c"
      ],
      "metadata": {
        "id": "Xc2jeeWTEhEg"
      },
      "execution_count": 18,
      "outputs": []
    },
    {
      "cell_type": "code",
      "source": [
        "!./for"
      ],
      "metadata": {
        "colab": {
          "base_uri": "https://localhost:8080/"
        },
        "id": "FE92eVRcElaO",
        "outputId": "6afee6fe-8bd4-4f0f-cd6d-83fdae21b1f7"
      },
      "execution_count": 19,
      "outputs": [
        {
          "output_type": "stream",
          "name": "stdout",
          "text": [
            "Iteration: 0\n",
            "Iteration: 1\n",
            "Iteration: 2\n",
            "Iteration: 3\n",
            "Iteration: 4\n"
          ]
        }
      ]
    },
    {
      "cell_type": "markdown",
      "source": [
        "Arrays and Strings"
      ],
      "metadata": {
        "id": "MuDRpaGnEuWC"
      }
    },
    {
      "cell_type": "code",
      "source": [
        "%%writefile arr.c\n",
        "\n",
        "#include <stdio.h>\n",
        "\n",
        "int main() {\n",
        "    int numbers[5] = {1, 2, 3, 4, 5};\n",
        "    char name[] = \"C Programming\";\n",
        "    printf(\"First number: %d\\n\", numbers[0]);\n",
        "    printf(\"String: %s\\n\", name);\n",
        "    return 0;\n",
        "}"
      ],
      "metadata": {
        "colab": {
          "base_uri": "https://localhost:8080/"
        },
        "id": "uaq-eRRnDEUI",
        "outputId": "72109058-7e98-4fbb-cbab-1e79b766dbe7"
      },
      "execution_count": 20,
      "outputs": [
        {
          "output_type": "stream",
          "name": "stdout",
          "text": [
            "Writing arr.c\n"
          ]
        }
      ]
    },
    {
      "cell_type": "code",
      "source": [
        "!gcc -o arr arr.c"
      ],
      "metadata": {
        "id": "3XfQMaP0ExhH"
      },
      "execution_count": 21,
      "outputs": []
    },
    {
      "cell_type": "code",
      "source": [
        "!./arr"
      ],
      "metadata": {
        "colab": {
          "base_uri": "https://localhost:8080/"
        },
        "id": "Bygm3GoEEzgo",
        "outputId": "bd40b7c4-2234-4671-fe29-aae35881ca40"
      },
      "execution_count": 22,
      "outputs": [
        {
          "output_type": "stream",
          "name": "stdout",
          "text": [
            "First number: 1\n",
            "String: C Programming\n"
          ]
        }
      ]
    },
    {
      "cell_type": "code",
      "source": [],
      "metadata": {
        "id": "X7QIWuN-E0-z"
      },
      "execution_count": null,
      "outputs": []
    }
  ]
}