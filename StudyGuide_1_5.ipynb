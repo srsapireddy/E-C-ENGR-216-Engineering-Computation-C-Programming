{
  "nbformat": 4,
  "nbformat_minor": 0,
  "metadata": {
    "colab": {
      "provenance": []
    },
    "kernelspec": {
      "name": "python3",
      "display_name": "Python 3"
    },
    "language_info": {
      "name": "python"
    }
  },
  "cells": [
    {
      "cell_type": "markdown",
      "source": [
        "Question 1"
      ],
      "metadata": {
        "id": "myBjkFART8vh"
      }
    },
    {
      "cell_type": "code",
      "execution_count": 2,
      "metadata": {
        "colab": {
          "base_uri": "https://localhost:8080/"
        },
        "id": "t8ItnNAXT3HA",
        "outputId": "c3fff17a-88aa-419b-b11e-fddc74ac7c3e"
      },
      "outputs": [
        {
          "output_type": "stream",
          "name": "stdout",
          "text": [
            "Writing q1.c\n"
          ]
        }
      ],
      "source": [
        "# Save the C code to a file\n",
        "%%writefile q1.c\n",
        "#include <stdio.h>\n",
        "\n",
        "int main() {\n",
        "    int a = 8, b = 4;\n",
        "    if (a < b)\n",
        "        printf(\"Smaller\\n\");\n",
        "    else if (a == b)\n",
        "        printf(\"Equal\\n\");\n",
        "    else\n",
        "        printf(\"Greater\\n\");\n",
        "    return 0;\n",
        "}\n"
      ]
    },
    {
      "cell_type": "code",
      "source": [
        "!gcc q1.c -o q1\n",
        "!./q1\n"
      ],
      "metadata": {
        "colab": {
          "base_uri": "https://localhost:8080/"
        },
        "id": "JYEL9fV7T8Vq",
        "outputId": "f48b20e6-313c-474b-b6fe-c1d4e20caaaf"
      },
      "execution_count": 3,
      "outputs": [
        {
          "output_type": "stream",
          "name": "stdout",
          "text": [
            "Greater\n"
          ]
        }
      ]
    },
    {
      "cell_type": "markdown",
      "source": [
        "Question 2"
      ],
      "metadata": {
        "id": "WjYURbAVUOki"
      }
    },
    {
      "cell_type": "code",
      "source": [
        "%%writefile q2.c\n",
        "#include <stdio.h>\n",
        "\n",
        "int main() {\n",
        "    int x = 0;\n",
        "    if (x)\n",
        "        printf(\"Non-zero\\n\");\n",
        "    else\n",
        "        printf(\"Zero\\n\");\n",
        "    return 0;\n",
        "}\n"
      ],
      "metadata": {
        "colab": {
          "base_uri": "https://localhost:8080/"
        },
        "id": "WIW7Vof_UM4a",
        "outputId": "76aff3d3-a57a-4d7b-e3d0-8ed9fc22444d"
      },
      "execution_count": 4,
      "outputs": [
        {
          "output_type": "stream",
          "name": "stdout",
          "text": [
            "Writing q2.c\n"
          ]
        }
      ]
    },
    {
      "cell_type": "code",
      "source": [
        "!gcc q2.c -o q2\n",
        "!./q2\n"
      ],
      "metadata": {
        "colab": {
          "base_uri": "https://localhost:8080/"
        },
        "id": "99QilqTAUQ_x",
        "outputId": "ff0f5e64-014d-4261-edac-b38463fd5cd7"
      },
      "execution_count": 5,
      "outputs": [
        {
          "output_type": "stream",
          "name": "stdout",
          "text": [
            "Zero\n"
          ]
        }
      ]
    },
    {
      "cell_type": "markdown",
      "source": [
        "Question 3"
      ],
      "metadata": {
        "id": "uV0vRAuQUv-b"
      }
    },
    {
      "cell_type": "code",
      "source": [
        "%%writefile input_output_example.c\n",
        "#include <stdio.h>\n",
        "\n",
        "int main() {\n",
        "    float x;\n",
        "    int num;\n",
        "    char ch;\n",
        "\n",
        "    // Input a float\n",
        "    printf(\"Enter a float value: \");\n",
        "    scanf(\"%f\", &x);\n",
        "\n",
        "    // Input an integer\n",
        "    printf(\"Enter an integer value: \");\n",
        "    scanf(\"%d\", &num);\n",
        "\n",
        "    // Input a character\n",
        "    printf(\"Enter a character: \");\n",
        "    scanf(\" %c\", &ch);  // space before %c to consume any leftover newline\n",
        "\n",
        "    // Output the values\n",
        "    printf(\"\\nYou entered:\\n\");\n",
        "    printf(\"Float: %.2f\\n\", x);\n",
        "    printf(\"Integer: %d\\n\", num);\n",
        "    printf(\"Character: %c\\n\", ch);\n",
        "\n",
        "    return 0;\n",
        "}\n"
      ],
      "metadata": {
        "colab": {
          "base_uri": "https://localhost:8080/"
        },
        "id": "__JHmkNAUSBT",
        "outputId": "15435977-7ba0-41e1-9d78-323a37fd164d"
      },
      "execution_count": 6,
      "outputs": [
        {
          "output_type": "stream",
          "name": "stdout",
          "text": [
            "Writing input_output_example.c\n"
          ]
        }
      ]
    },
    {
      "cell_type": "code",
      "source": [
        "!gcc input_output_example.c -o input_output_example\n",
        "!./input_output_example\n"
      ],
      "metadata": {
        "colab": {
          "base_uri": "https://localhost:8080/"
        },
        "id": "P6Hrne4LUzEW",
        "outputId": "d2e975ba-3905-46fd-f404-a203438f02cb"
      },
      "execution_count": 7,
      "outputs": [
        {
          "output_type": "stream",
          "name": "stdout",
          "text": [
            "Enter a float value: 1.1\n",
            "Enter an integer value: 3\n",
            "Enter a character: r\n",
            "\n",
            "You entered:\n",
            "Float: 1.10\n",
            "Integer: 3\n",
            "Character: r\n"
          ]
        }
      ]
    },
    {
      "cell_type": "markdown",
      "source": [
        "Question 4"
      ],
      "metadata": {
        "id": "EdJ0hk7WU4PU"
      }
    },
    {
      "cell_type": "code",
      "source": [
        "%%writefile pre_increment.c\n",
        "#include <stdio.h>\n",
        "\n",
        "int main() {\n",
        "    int x = 5;\n",
        "    int y = ++x;\n",
        "    printf(\"%d %d\\n\", x, y);\n",
        "    return 0;\n",
        "}\n"
      ],
      "metadata": {
        "colab": {
          "base_uri": "https://localhost:8080/"
        },
        "id": "dvfAwY7xU0Dp",
        "outputId": "fd7a89cd-621d-4e44-c494-a36abc6641ca"
      },
      "execution_count": 8,
      "outputs": [
        {
          "output_type": "stream",
          "name": "stdout",
          "text": [
            "Writing pre_increment.c\n"
          ]
        }
      ]
    },
    {
      "cell_type": "code",
      "source": [
        "!gcc pre_increment.c -o pre_increment\n",
        "!./pre_increment\n"
      ],
      "metadata": {
        "colab": {
          "base_uri": "https://localhost:8080/"
        },
        "id": "VXSjkkEiVTl9",
        "outputId": "79becbb0-9652-4b66-8ed3-7ff349639851"
      },
      "execution_count": 9,
      "outputs": [
        {
          "output_type": "stream",
          "name": "stdout",
          "text": [
            "6 6\n"
          ]
        }
      ]
    },
    {
      "cell_type": "markdown",
      "source": [
        "Question 5"
      ],
      "metadata": {
        "id": "tXREv65kVYpF"
      }
    },
    {
      "cell_type": "code",
      "source": [
        "%%writefile mix_increment.c\n",
        "#include <stdio.h>\n",
        "\n",
        "int main() {\n",
        "    int a = 10, b = 20;\n",
        "    int c = a++ + --b;\n",
        "    printf(\"%d %d %d\\n\", a, b, c);\n",
        "    return 0;\n",
        "}\n"
      ],
      "metadata": {
        "colab": {
          "base_uri": "https://localhost:8080/"
        },
        "id": "-sOgQASNVUrr",
        "outputId": "d4c7fc3e-a6af-4c3f-dc50-22c846a8bc2c"
      },
      "execution_count": 10,
      "outputs": [
        {
          "output_type": "stream",
          "name": "stdout",
          "text": [
            "Writing mix_increment.c\n"
          ]
        }
      ]
    },
    {
      "cell_type": "code",
      "source": [
        "!gcc mix_increment.c -o mix_increment\n",
        "!./mix_increment\n"
      ],
      "metadata": {
        "colab": {
          "base_uri": "https://localhost:8080/"
        },
        "id": "xPK23KwhVZ2w",
        "outputId": "6fa98745-de50-41b9-aeb5-fb04ab8da2e5"
      },
      "execution_count": 11,
      "outputs": [
        {
          "output_type": "stream",
          "name": "stdout",
          "text": [
            "11 19 29\n"
          ]
        }
      ]
    },
    {
      "cell_type": "markdown",
      "source": [
        "Question 6"
      ],
      "metadata": {
        "id": "eAok7VYHVq8D"
      }
    },
    {
      "cell_type": "code",
      "source": [
        "%%writefile type_mismatch.c\n",
        "#include <stdio.h>\n",
        "\n",
        "int main() {\n",
        "    int a = 100;\n",
        "    float b = 25.75;\n",
        "    char c = 'A';\n",
        "\n",
        "    printf(\"1. Integer as float: %.2f\\n\", a);       // Implicit conversion\n",
        "    printf(\"2. Float as integer: %d\\n\", (int)b);    // Type cast\n",
        "    printf(\"3. Character as integer: %d\\n\", c);     // ASCII value\n",
        "    printf(\"4. Character as character: %c\\n\", c);\n",
        "\n",
        "    return 0;\n",
        "}\n"
      ],
      "metadata": {
        "colab": {
          "base_uri": "https://localhost:8080/"
        },
        "id": "JkgBg5yrVbxk",
        "outputId": "c12d798f-4281-4d52-d5f7-5b7b7f1f21b9"
      },
      "execution_count": 12,
      "outputs": [
        {
          "output_type": "stream",
          "name": "stdout",
          "text": [
            "Writing type_mismatch.c\n"
          ]
        }
      ]
    },
    {
      "cell_type": "code",
      "source": [
        "!gcc type_mismatch.c -o type_mismatch\n",
        "!./type_mismatch\n"
      ],
      "metadata": {
        "colab": {
          "base_uri": "https://localhost:8080/"
        },
        "id": "N4PSaAqPW5Ae",
        "outputId": "f31539e3-4888-4516-e4ce-6a0e618b8deb"
      },
      "execution_count": 13,
      "outputs": [
        {
          "output_type": "stream",
          "name": "stdout",
          "text": [
            "\u001b[01m\u001b[Ktype_mismatch.c:\u001b[m\u001b[K In function ‘\u001b[01m\u001b[Kmain\u001b[m\u001b[K’:\n",
            "\u001b[01m\u001b[Ktype_mismatch.c:8:37:\u001b[m\u001b[K \u001b[01;35m\u001b[Kwarning: \u001b[m\u001b[Kformat ‘\u001b[01m\u001b[K%f\u001b[m\u001b[K’ expects argument of type ‘\u001b[01m\u001b[Kdouble\u001b[m\u001b[K’, but argument 2 has type ‘\u001b[01m\u001b[Kint\u001b[m\u001b[K’ [\u001b[01;35m\u001b[K\u001b]8;;https://gcc.gnu.org/onlinedocs/gcc/Warning-Options.html#index-Wformat=\u0007-Wformat=\u001b]8;;\u0007\u001b[m\u001b[K]\n",
            "    8 |     printf(\"1. Integer as float: \u001b[01;35m\u001b[K%.2f\u001b[m\u001b[K\\n\", \u001b[32m\u001b[Ka\u001b[m\u001b[K);       // Implicit conversion\n",
            "      |                                  \u001b[01;35m\u001b[K~~~^\u001b[m\u001b[K     \u001b[32m\u001b[K~\u001b[m\u001b[K\n",
            "      |                                     \u001b[01;35m\u001b[K|\u001b[m\u001b[K     \u001b[32m\u001b[K|\u001b[m\u001b[K\n",
            "      |                                     \u001b[01;35m\u001b[K|\u001b[m\u001b[K     \u001b[32m\u001b[Kint\u001b[m\u001b[K\n",
            "      |                                     \u001b[01;35m\u001b[Kdouble\u001b[m\u001b[K\n",
            "      |                                  \u001b[32m\u001b[K%.2d\u001b[m\u001b[K\n",
            "1. Integer as float: 0.00\n",
            "2. Float as integer: 25\n",
            "3. Character as integer: 65\n",
            "4. Character as character: A\n"
          ]
        }
      ]
    },
    {
      "cell_type": "markdown",
      "source": [
        "Question 7"
      ],
      "metadata": {
        "id": "wq-27p4bW_pC"
      }
    },
    {
      "cell_type": "code",
      "source": [
        "%%writefile wrong_specifiers.c\n",
        "#include <stdio.h>\n",
        "\n",
        "int main() {\n",
        "    char ch = 'B';\n",
        "    int x = 66;\n",
        "    float f = 9.81;\n",
        "\n",
        "    printf(\"1. Printing char as int: %d\\n\", ch);   // ASCII value\n",
        "    printf(\"2. Printing int as char: %c\\n\", x);    // Character for 66 = B\n",
        "    printf(\"3. Wrong: float as char: %c\\n\", (int)f); // Truncated\n",
        "    printf(\"4. Correct float: %f\\n\", f);           // Proper float output\n",
        "\n",
        "    return 0;\n",
        "}\n"
      ],
      "metadata": {
        "colab": {
          "base_uri": "https://localhost:8080/"
        },
        "id": "LOzRV2XgXBCi",
        "outputId": "42861c6c-b251-4bcc-d2d6-7454fe976214"
      },
      "execution_count": 16,
      "outputs": [
        {
          "output_type": "stream",
          "name": "stdout",
          "text": [
            "Overwriting wrong_specifiers.c\n"
          ]
        }
      ]
    },
    {
      "cell_type": "code",
      "source": [
        "!gcc wrong_specifiers.c -o wrong_specifiers\n",
        "!./wrong_specifiers\n"
      ],
      "metadata": {
        "colab": {
          "base_uri": "https://localhost:8080/"
        },
        "id": "GoFYF1RTXCa6",
        "outputId": "a7444a16-89a9-4a9f-f046-be39b7e6aa3d"
      },
      "execution_count": 17,
      "outputs": [
        {
          "output_type": "stream",
          "name": "stdout",
          "text": [
            "1. Printing char as int: 66\n",
            "2. Printing int as char: B\n",
            "3. Wrong: float as char: \t\n",
            "4. Correct float: 9.810000\n"
          ]
        }
      ]
    },
    {
      "cell_type": "markdown",
      "source": [
        "Question 8"
      ],
      "metadata": {
        "id": "O40KHm6HXY9S"
      }
    },
    {
      "cell_type": "code",
      "source": [
        "%%writefile combo_increment.c\n",
        "#include <stdio.h>\n",
        "\n",
        "int main() {\n",
        "    int x = 3;\n",
        "    int y = x++ + ++x;\n",
        "    printf(\"%d\\n\", y);\n",
        "    return 0;\n",
        "}\n"
      ],
      "metadata": {
        "colab": {
          "base_uri": "https://localhost:8080/"
        },
        "id": "55M5h6cAXFvB",
        "outputId": "45b3d781-7071-453a-a457-0b9996062363"
      },
      "execution_count": 18,
      "outputs": [
        {
          "output_type": "stream",
          "name": "stdout",
          "text": [
            "Writing combo_increment.c\n"
          ]
        }
      ]
    },
    {
      "cell_type": "code",
      "source": [
        "!gcc combo_increment.c -o combo_increment\n",
        "!./combo_increment\n"
      ],
      "metadata": {
        "colab": {
          "base_uri": "https://localhost:8080/"
        },
        "id": "meFem-aJXrQh",
        "outputId": "ff8df578-91c6-4a51-b7ae-4717910f4b25"
      },
      "execution_count": 19,
      "outputs": [
        {
          "output_type": "stream",
          "name": "stdout",
          "text": [
            "8\n"
          ]
        }
      ]
    },
    {
      "cell_type": "markdown",
      "source": [
        "Question 9"
      ],
      "metadata": {
        "id": "vDZTl3oQYM2R"
      }
    },
    {
      "cell_type": "code",
      "source": [
        "%%writefile expression_eval.c\n",
        "#include <stdio.h>\n",
        "\n",
        "int main() {\n",
        "    int a = 5;\n",
        "    int b = 3;\n",
        "    int result = a++ * --b + b++ - --a;\n",
        "\n",
        "    printf(\"a = %d\\n\", a);\n",
        "    printf(\"b = %d\\n\", b);\n",
        "    printf(\"result = %d\\n\", result);\n",
        "\n",
        "    return 0;\n",
        "}\n"
      ],
      "metadata": {
        "colab": {
          "base_uri": "https://localhost:8080/"
        },
        "id": "nMIY4UUTXsZU",
        "outputId": "079d450e-8f13-4310-b692-1be0df937001"
      },
      "execution_count": 21,
      "outputs": [
        {
          "output_type": "stream",
          "name": "stdout",
          "text": [
            "Overwriting expression_eval.c\n"
          ]
        }
      ]
    },
    {
      "cell_type": "code",
      "source": [
        "!gcc expression_eval.c -o expression_eval\n",
        "!./expression_eval\n"
      ],
      "metadata": {
        "colab": {
          "base_uri": "https://localhost:8080/"
        },
        "id": "DvRHLsKiYOny",
        "outputId": "86a3192d-4792-417a-e39b-d751c6741975"
      },
      "execution_count": 22,
      "outputs": [
        {
          "output_type": "stream",
          "name": "stdout",
          "text": [
            "a = 5\n",
            "b = 3\n",
            "result = 7\n"
          ]
        }
      ]
    },
    {
      "cell_type": "markdown",
      "source": [
        "Question 10"
      ],
      "metadata": {
        "id": "hDgE4X55YTNB"
      }
    },
    {
      "cell_type": "code",
      "source": [
        "%%writefile fib_recursive.c\n",
        "#include <stdio.h>\n",
        "\n",
        "int fib(int n) {\n",
        "    if (n == 0) return 0;\n",
        "    if (n == 1) return 1;\n",
        "    return fib(n - 1) + fib(n - 2);\n",
        "}\n",
        "\n",
        "int main() {\n",
        "    int result = fib(5);\n",
        "    printf(\"fib(5) = %d\\n\", result);\n",
        "    return 0;\n",
        "}\n"
      ],
      "metadata": {
        "colab": {
          "base_uri": "https://localhost:8080/"
        },
        "id": "O8CeZoSwYRf7",
        "outputId": "4fbb7276-b5e2-4cf9-c80c-6feaa202ee5e"
      },
      "execution_count": 23,
      "outputs": [
        {
          "output_type": "stream",
          "name": "stdout",
          "text": [
            "Writing fib_recursive.c\n"
          ]
        }
      ]
    },
    {
      "cell_type": "code",
      "source": [
        "!gcc fib_recursive.c -o fib_recursive\n",
        "!./fib_recursive\n"
      ],
      "metadata": {
        "colab": {
          "base_uri": "https://localhost:8080/"
        },
        "id": "UmaE4u-uYj9i",
        "outputId": "3e41dbff-6a7d-474a-f38e-0adf8c43d25c"
      },
      "execution_count": 24,
      "outputs": [
        {
          "output_type": "stream",
          "name": "stdout",
          "text": [
            "fib(5) = 5\n"
          ]
        }
      ]
    },
    {
      "cell_type": "markdown",
      "source": [
        "Question 11"
      ],
      "metadata": {
        "id": "7qdKvPKlYmPq"
      }
    },
    {
      "cell_type": "code",
      "source": [
        "%%writefile sum_recursive.c\n",
        "#include <stdio.h>\n",
        "\n",
        "int sum(int n) {\n",
        "    if (n == 1) return 1;\n",
        "    return n + sum(n - 1);\n",
        "}\n",
        "\n",
        "int main() {\n",
        "    int result = sum(4);\n",
        "    printf(\"sum(4) = %d\\n\", result);\n",
        "    return 0;\n",
        "}\n"
      ],
      "metadata": {
        "colab": {
          "base_uri": "https://localhost:8080/"
        },
        "id": "bzxcojATYk8M",
        "outputId": "f785216a-7b0b-409c-9433-64b31ac3d15d"
      },
      "execution_count": 25,
      "outputs": [
        {
          "output_type": "stream",
          "name": "stdout",
          "text": [
            "Writing sum_recursive.c\n"
          ]
        }
      ]
    },
    {
      "cell_type": "code",
      "source": [
        "!gcc sum_recursive.c -o sum_recursive\n",
        "!./sum_recursive\n"
      ],
      "metadata": {
        "colab": {
          "base_uri": "https://localhost:8080/"
        },
        "id": "VVG2_ftWYo3j",
        "outputId": "d4273392-9b51-44b6-f110-867ca09139d7"
      },
      "execution_count": 26,
      "outputs": [
        {
          "output_type": "stream",
          "name": "stdout",
          "text": [
            "sum(4) = 10\n"
          ]
        }
      ]
    },
    {
      "cell_type": "markdown",
      "source": [
        "Question 12"
      ],
      "metadata": {
        "id": "w5ca-n6tYqjs"
      }
    },
    {
      "cell_type": "code",
      "source": [
        "%%writefile continue_example.c\n",
        "#include <stdio.h>\n",
        "\n",
        "int main() {\n",
        "    int i, j;\n",
        "    for(i = 1; i <= 3; i++) {\n",
        "        for(j = 1; j <= 3; j++) {\n",
        "            if(j == 2)\n",
        "                continue;\n",
        "            printf(\"%d%d \", i, j);\n",
        "        }\n",
        "    }\n",
        "    return 0;\n",
        "}\n"
      ],
      "metadata": {
        "colab": {
          "base_uri": "https://localhost:8080/"
        },
        "id": "7ad0BgskYpzc",
        "outputId": "e9909e2c-7cbe-43c4-a8ba-a8bf6d13942a"
      },
      "execution_count": 27,
      "outputs": [
        {
          "output_type": "stream",
          "name": "stdout",
          "text": [
            "Writing continue_example.c\n"
          ]
        }
      ]
    },
    {
      "cell_type": "code",
      "source": [
        "!gcc continue_example.c -o continue_example\n",
        "!./continue_example\n"
      ],
      "metadata": {
        "colab": {
          "base_uri": "https://localhost:8080/"
        },
        "id": "p4KPoN5ZZMiS",
        "outputId": "3557272a-a889-4342-cf13-9ee2c47f9d12"
      },
      "execution_count": 28,
      "outputs": [
        {
          "output_type": "stream",
          "name": "stdout",
          "text": [
            "11 13 21 23 31 33 "
          ]
        }
      ]
    },
    {
      "cell_type": "markdown",
      "source": [
        "Question 13"
      ],
      "metadata": {
        "id": "MB16IwJuZOry"
      }
    },
    {
      "cell_type": "code",
      "source": [
        "%%writefile break_example.c\n",
        "#include <stdio.h>\n",
        "\n",
        "int main() {\n",
        "    int i, j;\n",
        "    for(i = 1; i <= 3; i++) {\n",
        "        for(j = 1; j <= 3; j++) {\n",
        "            if(j == 2)\n",
        "                break;\n",
        "            printf(\"%d%d \", i, j);\n",
        "        }\n",
        "    }\n",
        "    return 0;\n",
        "}\n"
      ],
      "metadata": {
        "colab": {
          "base_uri": "https://localhost:8080/"
        },
        "id": "4sS8YDxMZNlR",
        "outputId": "4b2f317c-eee3-4b51-eea6-446100e62f2c"
      },
      "execution_count": 29,
      "outputs": [
        {
          "output_type": "stream",
          "name": "stdout",
          "text": [
            "Writing break_example.c\n"
          ]
        }
      ]
    },
    {
      "cell_type": "code",
      "source": [
        "!gcc break_example.c -o break_example\n",
        "!./break_example\n"
      ],
      "metadata": {
        "colab": {
          "base_uri": "https://localhost:8080/"
        },
        "id": "V20P1iKbZSyU",
        "outputId": "91171705-d69e-44ab-ec4d-d4cb0b228a6a"
      },
      "execution_count": 30,
      "outputs": [
        {
          "output_type": "stream",
          "name": "stdout",
          "text": [
            "11 21 31 "
          ]
        }
      ]
    },
    {
      "cell_type": "markdown",
      "source": [
        "Question 14"
      ],
      "metadata": {
        "id": "H1dGF3IUZUqQ"
      }
    },
    {
      "cell_type": "code",
      "source": [
        "%%writefile fix_infinite_loop.c\n",
        "#include <stdio.h>\n",
        "\n",
        "int main() {\n",
        "    int i = 0;\n",
        "    while (i < 5) {\n",
        "        printf(\"%d \", i);\n",
        "        i++; // remove this\n",
        "    }\n",
        "    return 0;\n",
        "}\n"
      ],
      "metadata": {
        "colab": {
          "base_uri": "https://localhost:8080/"
        },
        "id": "-Qho1_l9ZT55",
        "outputId": "268739b0-55c7-46ec-bf60-261822dd3e64"
      },
      "execution_count": 36,
      "outputs": [
        {
          "output_type": "stream",
          "name": "stdout",
          "text": [
            "Overwriting fix_infinite_loop.c\n"
          ]
        }
      ]
    },
    {
      "cell_type": "code",
      "source": [
        "!gcc fix_infinite_loop.c -o fix_infinite_loop\n",
        "!./fix_infinite_loop\n"
      ],
      "metadata": {
        "colab": {
          "base_uri": "https://localhost:8080/"
        },
        "id": "IVcD3SsaZjsj",
        "outputId": "3b128c17-f149-48a5-8c67-522a09b65b51"
      },
      "execution_count": 37,
      "outputs": [
        {
          "output_type": "stream",
          "name": "stdout",
          "text": [
            "0 1 2 3 4 "
          ]
        }
      ]
    },
    {
      "cell_type": "markdown",
      "source": [
        "Question 15"
      ],
      "metadata": {
        "id": "7uUfBxV3ZuIC"
      }
    },
    {
      "cell_type": "code",
      "source": [
        "%%writefile fix_wrong_condition.c\n",
        "#include <stdio.h>\n",
        "\n",
        "int main() {\n",
        "    int n = 5;\n",
        "    for(int i = 1; i <= n; i++) { // change logic to i > n\n",
        "        printf(\"%d \", i);\n",
        "    }\n",
        "    return 0;\n",
        "}\n"
      ],
      "metadata": {
        "colab": {
          "base_uri": "https://localhost:8080/"
        },
        "id": "R7xKMdmdZk0q",
        "outputId": "d83279a6-b301-4a68-fb3e-7c47d1be0ad3"
      },
      "execution_count": 40,
      "outputs": [
        {
          "output_type": "stream",
          "name": "stdout",
          "text": [
            "Overwriting fix_wrong_condition.c\n"
          ]
        }
      ]
    },
    {
      "cell_type": "code",
      "source": [
        "!gcc fix_wrong_condition.c -o fix_wrong_condition\n",
        "!./fix_wrong_condition\n"
      ],
      "metadata": {
        "colab": {
          "base_uri": "https://localhost:8080/"
        },
        "id": "eS93DDSFZ91K",
        "outputId": "bbf45a03-ad25-4d58-912d-8838bd04ba8f"
      },
      "execution_count": 41,
      "outputs": [
        {
          "output_type": "stream",
          "name": "stdout",
          "text": [
            "1 2 3 4 5 "
          ]
        }
      ]
    }
  ]
}